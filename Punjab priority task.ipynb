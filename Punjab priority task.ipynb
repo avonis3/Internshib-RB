{
 "cells": [
  {
   "cell_type": "markdown",
   "id": "8f088aa8",
   "metadata": {},
   "source": [
    "# Punjab Priority dataset\n"
   ]
  },
  {
   "cell_type": "markdown",
   "id": "ec5d2343",
   "metadata": {},
   "source": [
    "### Data set from Punjab survey where citizens shared top two priorities to be addressed."
   ]
  },
  {
   "cell_type": "markdown",
   "id": "2b97b5df",
   "metadata": {},
   "source": [
    "We are gonna start by importing the required library"
   ]
  },
  {
   "cell_type": "code",
   "execution_count": 1,
   "id": "36fbde12",
   "metadata": {},
   "outputs": [],
   "source": [
    "import pandas as pd"
   ]
  },
  {
   "cell_type": "markdown",
   "id": "5082dec2",
   "metadata": {},
   "source": [
    "## Uploading and exploring data"
   ]
  },
  {
   "cell_type": "code",
   "execution_count": 3,
   "id": "e4f1a62a",
   "metadata": {},
   "outputs": [
    {
     "data": {
      "text/html": [
       "<div>\n",
       "<style scoped>\n",
       "    .dataframe tbody tr th:only-of-type {\n",
       "        vertical-align: middle;\n",
       "    }\n",
       "\n",
       "    .dataframe tbody tr th {\n",
       "        vertical-align: top;\n",
       "    }\n",
       "\n",
       "    .dataframe thead th {\n",
       "        text-align: right;\n",
       "    }\n",
       "</style>\n",
       "<table border=\"1\" class=\"dataframe\">\n",
       "  <thead>\n",
       "    <tr style=\"text-align: right;\">\n",
       "      <th></th>\n",
       "      <th>contact_name</th>\n",
       "      <th>resident_punjab</th>\n",
       "      <th>Pin_constituency</th>\n",
       "      <th>locality_name</th>\n",
       "      <th>priority_1</th>\n",
       "      <th>Pun_priority_1</th>\n",
       "      <th>why_priority_1</th>\n",
       "      <th>priority_2</th>\n",
       "      <th>Pun_priority_2</th>\n",
       "      <th>why_priority_</th>\n",
       "    </tr>\n",
       "  </thead>\n",
       "  <tbody>\n",
       "    <tr>\n",
       "      <th>0</th>\n",
       "      <td>XYXYXYXYX</td>\n",
       "      <td>Pun</td>\n",
       "      <td>ਹਾਂ</td>\n",
       "      <td>NaN</td>\n",
       "      <td>Livelihood/Employment</td>\n",
       "      <td>NaN</td>\n",
       "      <td>Na</td>\n",
       "      <td>Pun</td>\n",
       "      <td>Education</td>\n",
       "      <td>NaN</td>\n",
       "    </tr>\n",
       "    <tr>\n",
       "      <th>1</th>\n",
       "      <td>XYXYXYXYX</td>\n",
       "      <td>Y</td>\n",
       "      <td>146109</td>\n",
       "      <td>NaN</td>\n",
       "      <td>Education</td>\n",
       "      <td>NaN</td>\n",
       "      <td>Na</td>\n",
       "      <td>Livelihood/Employment</td>\n",
       "      <td>NaN</td>\n",
       "      <td>https://filemanager.gupshup.io/fm/wamedia/RBGl...</td>\n",
       "    </tr>\n",
       "    <tr>\n",
       "      <th>2</th>\n",
       "      <td>XYXYXYXYX</td>\n",
       "      <td>N</td>\n",
       "      <td>NaN</td>\n",
       "      <td>NaN</td>\n",
       "      <td>NaN</td>\n",
       "      <td>NaN</td>\n",
       "      <td>NaN</td>\n",
       "      <td>NaN</td>\n",
       "      <td>NaN</td>\n",
       "      <td>NaN</td>\n",
       "    </tr>\n",
       "    <tr>\n",
       "      <th>3</th>\n",
       "      <td>XYXYXYXYX</td>\n",
       "      <td>Y</td>\n",
       "      <td>143001</td>\n",
       "      <td>NaN</td>\n",
       "      <td>Livelihood/Employment</td>\n",
       "      <td>NaN</td>\n",
       "      <td>mujhe ye lgta hai ki aj ki jo generation hai v...</td>\n",
       "      <td>NaN</td>\n",
       "      <td>NaN</td>\n",
       "      <td>NaN</td>\n",
       "    </tr>\n",
       "    <tr>\n",
       "      <th>4</th>\n",
       "      <td>XYXYXYXYX</td>\n",
       "      <td>Y</td>\n",
       "      <td>141204</td>\n",
       "      <td>NaN</td>\n",
       "      <td>Drug addiction</td>\n",
       "      <td>NaN</td>\n",
       "      <td>na</td>\n",
       "      <td>Livelihood/Employment</td>\n",
       "      <td>NaN</td>\n",
       "      <td>ਪੜੇ ਲਿਖੇ ਬਾਹਰਲੇ ਮੁਲਕਾਂ ਚ ਤੁਰ ਜਾਂਦੇ ਹਨ, ਰੁਜ਼ਗਾਰ...</td>\n",
       "    </tr>\n",
       "  </tbody>\n",
       "</table>\n",
       "</div>"
      ],
      "text/plain": [
       "  contact_name resident_punjab Pin_constituency locality_name  \\\n",
       "0    XYXYXYXYX             Pun              ਹਾਂ           NaN   \n",
       "1    XYXYXYXYX               Y           146109           NaN   \n",
       "2    XYXYXYXYX               N              NaN           NaN   \n",
       "3    XYXYXYXYX               Y           143001           NaN   \n",
       "4    XYXYXYXYX               Y           141204           NaN   \n",
       "\n",
       "              priority_1 Pun_priority_1  \\\n",
       "0  Livelihood/Employment            NaN   \n",
       "1              Education            NaN   \n",
       "2                    NaN            NaN   \n",
       "3  Livelihood/Employment            NaN   \n",
       "4         Drug addiction            NaN   \n",
       "\n",
       "                                      why_priority_1             priority_2  \\\n",
       "0                                                 Na                    Pun   \n",
       "1                                                 Na  Livelihood/Employment   \n",
       "2                                                NaN                    NaN   \n",
       "3  mujhe ye lgta hai ki aj ki jo generation hai v...                    NaN   \n",
       "4                                                 na  Livelihood/Employment   \n",
       "\n",
       "  Pun_priority_2                                      why_priority_  \n",
       "0      Education                                                NaN  \n",
       "1            NaN  https://filemanager.gupshup.io/fm/wamedia/RBGl...  \n",
       "2            NaN                                                NaN  \n",
       "3            NaN                                                NaN  \n",
       "4            NaN  ਪੜੇ ਲਿਖੇ ਬਾਹਰਲੇ ਮੁਲਕਾਂ ਚ ਤੁਰ ਜਾਂਦੇ ਹਨ, ਰੁਜ਼ਗਾਰ...  "
      ]
     },
     "execution_count": 3,
     "metadata": {},
     "output_type": "execute_result"
    }
   ],
   "source": [
    "punjab = pd.read_csv('Data Set - Punjab Poll - Sheet1.csv')\n",
    "punjab.head()"
   ]
  },
  {
   "cell_type": "code",
   "execution_count": 4,
   "id": "8ffb703e",
   "metadata": {},
   "outputs": [
    {
     "name": "stdout",
     "output_type": "stream",
     "text": [
      "<class 'pandas.core.frame.DataFrame'>\n",
      "RangeIndex: 886 entries, 0 to 885\n",
      "Data columns (total 10 columns):\n",
      " #   Column            Non-Null Count  Dtype \n",
      "---  ------            --------------  ----- \n",
      " 0   contact_name      886 non-null    object\n",
      " 1   resident_punjab   860 non-null    object\n",
      " 2   Pin_constituency  646 non-null    object\n",
      " 3   locality_name     62 non-null     object\n",
      " 4   priority_1        592 non-null    object\n",
      " 5   Pun_priority_1    34 non-null     object\n",
      " 6   why_priority_1    438 non-null    object\n",
      " 7   priority_2        427 non-null    object\n",
      " 8   Pun_priority_2    27 non-null     object\n",
      " 9   why_priority_     286 non-null    object\n",
      "dtypes: object(10)\n",
      "memory usage: 69.3+ KB\n"
     ]
    }
   ],
   "source": [
    "punjab.info()                 # ALOT OF NULL VALUES"
   ]
  },
  {
   "cell_type": "code",
   "execution_count": 13,
   "id": "0d19a7fe",
   "metadata": {},
   "outputs": [
    {
     "data": {
      "text/plain": [
       "(886, 10)"
      ]
     },
     "execution_count": 13,
     "metadata": {},
     "output_type": "execute_result"
    }
   ],
   "source": [
    "punjab.shape  # Finding rows and columns"
   ]
  },
  {
   "cell_type": "code",
   "execution_count": 14,
   "id": "47354f49",
   "metadata": {},
   "outputs": [
    {
     "data": {
      "text/plain": [
       "contact_name          0\n",
       "resident_punjab      26\n",
       "Pin_constituency    240\n",
       "locality_name       824\n",
       "priority_1          294\n",
       "Pun_priority_1      852\n",
       "why_priority_1      448\n",
       "priority_2          459\n",
       "Pun_priority_2      859\n",
       "why_priority_       600\n",
       "dtype: int64"
      ]
     },
     "execution_count": 14,
     "metadata": {},
     "output_type": "execute_result"
    }
   ],
   "source": [
    "punjab.isnull().sum()   # Checking null values in our dataset "
   ]
  },
  {
   "cell_type": "code",
   "execution_count": 10,
   "id": "a643c1b2",
   "metadata": {
    "scrolled": true
   },
   "outputs": [
    {
     "data": {
      "text/html": [
       "<div>\n",
       "<style scoped>\n",
       "    .dataframe tbody tr th:only-of-type {\n",
       "        vertical-align: middle;\n",
       "    }\n",
       "\n",
       "    .dataframe tbody tr th {\n",
       "        vertical-align: top;\n",
       "    }\n",
       "\n",
       "    .dataframe thead th {\n",
       "        text-align: right;\n",
       "    }\n",
       "</style>\n",
       "<table border=\"1\" class=\"dataframe\">\n",
       "  <thead>\n",
       "    <tr style=\"text-align: right;\">\n",
       "      <th></th>\n",
       "      <th>contact_name</th>\n",
       "      <th>resident_punjab</th>\n",
       "      <th>Pin_constituency</th>\n",
       "      <th>locality_name</th>\n",
       "      <th>priority_1</th>\n",
       "      <th>Pun_priority_1</th>\n",
       "      <th>why_priority_1</th>\n",
       "      <th>priority_2</th>\n",
       "      <th>Pun_priority_2</th>\n",
       "      <th>why_priority_</th>\n",
       "    </tr>\n",
       "  </thead>\n",
       "  <tbody>\n",
       "    <tr>\n",
       "      <th>count</th>\n",
       "      <td>886</td>\n",
       "      <td>860</td>\n",
       "      <td>646</td>\n",
       "      <td>62</td>\n",
       "      <td>592</td>\n",
       "      <td>34</td>\n",
       "      <td>438</td>\n",
       "      <td>427</td>\n",
       "      <td>27</td>\n",
       "      <td>286</td>\n",
       "    </tr>\n",
       "    <tr>\n",
       "      <th>unique</th>\n",
       "      <td>1</td>\n",
       "      <td>4</td>\n",
       "      <td>306</td>\n",
       "      <td>52</td>\n",
       "      <td>6</td>\n",
       "      <td>30</td>\n",
       "      <td>235</td>\n",
       "      <td>55</td>\n",
       "      <td>26</td>\n",
       "      <td>192</td>\n",
       "    </tr>\n",
       "    <tr>\n",
       "      <th>top</th>\n",
       "      <td>XYXYXYXYX</td>\n",
       "      <td>Y</td>\n",
       "      <td>Idk</td>\n",
       "      <td>Bathinda</td>\n",
       "      <td>Livelihood/Employment</td>\n",
       "      <td>Livelihood/Employment</td>\n",
       "      <td>Na</td>\n",
       "      <td>Livelihood/Employment</td>\n",
       "      <td>MyPunjab</td>\n",
       "      <td>Na</td>\n",
       "    </tr>\n",
       "    <tr>\n",
       "      <th>freq</th>\n",
       "      <td>886</td>\n",
       "      <td>744</td>\n",
       "      <td>50</td>\n",
       "      <td>3</td>\n",
       "      <td>278</td>\n",
       "      <td>3</td>\n",
       "      <td>158</td>\n",
       "      <td>116</td>\n",
       "      <td>2</td>\n",
       "      <td>70</td>\n",
       "    </tr>\n",
       "  </tbody>\n",
       "</table>\n",
       "</div>"
      ],
      "text/plain": [
       "       contact_name resident_punjab Pin_constituency locality_name  \\\n",
       "count           886             860              646            62   \n",
       "unique            1               4              306            52   \n",
       "top       XYXYXYXYX               Y              Idk      Bathinda   \n",
       "freq            886             744               50             3   \n",
       "\n",
       "                   priority_1         Pun_priority_1 why_priority_1  \\\n",
       "count                     592                     34            438   \n",
       "unique                      6                     30            235   \n",
       "top     Livelihood/Employment  Livelihood/Employment             Na   \n",
       "freq                      278                      3            158   \n",
       "\n",
       "                   priority_2 Pun_priority_2 why_priority_  \n",
       "count                     427             27           286  \n",
       "unique                     55             26           192  \n",
       "top     Livelihood/Employment       MyPunjab            Na  \n",
       "freq                      116              2            70  "
      ]
     },
     "execution_count": 10,
     "metadata": {},
     "output_type": "execute_result"
    }
   ],
   "source": [
    "punjab.describe()         # for basic stats of the columns"
   ]
  },
  {
   "cell_type": "markdown",
   "id": "80f50852",
   "metadata": {},
   "source": [
    "Priority_1 has 6 unique values, which means there are only 6 main/unique priorities and 55 in priority_2\n"
   ]
  },
  {
   "cell_type": "markdown",
   "id": "66ad8db5",
   "metadata": {},
   "source": [
    "Let's dig deeper into this"
   ]
  },
  {
   "cell_type": "code",
   "execution_count": 16,
   "id": "98c2c373",
   "metadata": {},
   "outputs": [
    {
     "data": {
      "text/plain": [
       "Livelihood/Employment                                                                                                                                                                116\n",
       "Education                                                                                                                                                                             96\n",
       "Drug addiction                                                                                                                                                                        68\n",
       "Civic services (Garbage, bad roads etc)                                                                                                                                               39\n",
       "Pun                                                                                                                                                                                   35\n",
       "Agriculture reforms                                                                                                                                                                   17\n",
       "MyPunjab                                                                                                                                                                               5\n",
       "Na                                                                                                                                                                                     2\n",
       "Hi                                                                                                                                                                                     2\n",
       "Job                                                                                                                                                                                    2\n",
       "Yes                                                                                                                                                                                    1\n",
       "Optipns                                                                                                                                                                                1\n",
       "Berojgari                                                                                                                                                                              1\n",
       "ਬੇਰੁਜ਼ਗਾਰੀ                                                                                                                                                                             1\n",
       "https://filemanager.gupshup.io/fm/wamedia/RBGlificAPI/9f5f1ff6-1632-4e3e-9148-14737278a6b5                                                                                             1\n",
       "Public parks                                                                                                                                                                           1\n",
       "https://filemanager.gupshup.io/fm/wamedia/RBGlificAPI/9709b69d-b0ec-40e3-983c-efa6744456a7                                                                                             1\n",
       "hi                                                                                                                                                                                     1\n",
       "https://filemanager.gupshup.io/fm/wamedia/RBGlificAPI/592a0b74-1224-4a47-a7d8-bf12c4741587                                                                                             1\n",
       "Mypunjab                                                                                                                                                                               1\n",
       "Nasha                                                                                                                                                                                  1\n",
       "Tusi Ho kon                                                                                                                                                                            1\n",
       "Taa krke school nu pehl te adhar te dekhna chahida hai                                                                                                                                 1\n",
       "ਸਰਕਾਰੀ ਰੁਜ਼ਗਾਰ                                                                                                                                                                         1\n",
       "https://filemanager.gupshup.io/fm/wamedia/RBGlificAPI/e52745c2-66b3-40ef-a9bc-1eafcad13b5f                                                                                             1\n",
       "ਬੇਰੋਜਗਾਰੀ ਖ਼ਤਮ                                                                                                                                                                          1\n",
       "Na 143409                                                                                                                                                                              1\n",
       "I think higher education must be available at low cost                                                                                                                                 1\n",
       "https://filemanager.gupshup.io/fm/wamedia/RBGlificAPI/1a74d532-459b-42bf-8830-05b990b88cb9                                                                                             1\n",
       "https://filemanager.gupshup.io/fm/wamedia/RBGlificAPI/91aa412a-ed13-472e-bb83-52734e2f4c2e                                                                                             1\n",
       "Road s                                                                                                                                                                                 1\n",
       "ਰੋਜਗਾਰ ਦੀ                                                                                                                                                                              1\n",
       "Thanks                                                                                                                                                                                 1\n",
       "ਰੁਜ਼ਗਾਰ ਦਾ                                                                                                                                                                             1\n",
       "No                                                                                                                                                                                     1\n",
       "Employment                                                                                                                                                                             1\n",
       "Medical facility                                                                                                                                                                       1\n",
       "SB logg nsha kr rha hai                                                                                                                                                                1\n",
       "https://filemanager.gupshup.io/fm/wamedia/RBGlificAPI/a350ae56-6c9f-4d6a-8714-98c7b64c3c87                                                                                             1\n",
       "🤦‍♂️🤦‍♂️🤦‍♂️🤦‍♂️                                                                                                                                                                       1\n",
       "Lun                                                                                                                                                                                    1\n",
       "Education system free kro... Feese's less kro                                                                                                                                          1\n",
       "?                                                                                                                                                                                      1\n",
       "https://filemanager.gupshup.io/fm/wamedia/RBGlificAPI/da23732e-704d-460c-b921-c805508974b1                                                                                             1\n",
       "Sade Punjab nu bachya ja ske                                                                                                                                                           1\n",
       "https://filemanager.gupshup.io/fm/wamedia/RBGlificAPI/c30ae45d-3c6f-472c-ac9d-7130dfdf2889                                                                                             1\n",
       "Berujgari khatam honi chahidi aa                                                                                                                                                       1\n",
       "Help                                                                                                                                                                                   1\n",
       "Not show sp                                                                                                                                                                            1\n",
       "Vich pejo                                                                                                                                                                              1\n",
       "Ik ta karo pela                                                                                                                                                                        1\n",
       "By                                                                                                                                                                                     1\n",
       "Shivraj main Munda Hai Ki Galiyon Mein Pani Sasti hai aur vahan se aana jana Jane Se log Karte rahte hain isiliye mudde ko aap sabse main Suraj Ki Pani nikalne ka nikal karvayen      1\n",
       "Give jobs to the unemployed people                                                                                                                                                     1\n",
       "Voice note                                                                                                                                                                             1\n",
       "Name: priority_2, dtype: int64"
      ]
     },
     "execution_count": 16,
     "metadata": {},
     "output_type": "execute_result"
    }
   ],
   "source": [
    "punjab['priority_2'].value_counts()"
   ]
  },
  {
   "cell_type": "code",
   "execution_count": 15,
   "id": "12bec0ee",
   "metadata": {},
   "outputs": [
    {
     "data": {
      "text/plain": [
       "Livelihood/Employment                      278\n",
       "Education                                  149\n",
       "Drug addiction                              59\n",
       "Pun                                         47\n",
       "Civic services (Garbage, bad roads etc)     43\n",
       "Agriculture reforms                         16\n",
       "Name: priority_1, dtype: int64"
      ]
     },
     "execution_count": 15,
     "metadata": {},
     "output_type": "execute_result"
    }
   ],
   "source": [
    "punjab['priority_1'].value_counts()        # Calculating stats according to people"
   ]
  },
  {
   "cell_type": "markdown",
   "id": "d039763e",
   "metadata": {},
   "source": [
    "Making a pie chart for priority_1 table for better visualization "
   ]
  },
  {
   "cell_type": "code",
   "execution_count": 42,
   "id": "5d48b900",
   "metadata": {},
   "outputs": [],
   "source": [
    "from matplotlib import pyplot as plt\n",
    "import matplotlib.patches"
   ]
  },
  {
   "cell_type": "code",
   "execution_count": 49,
   "id": "456dd4a5",
   "metadata": {},
   "outputs": [
    {
     "data": {
      "image/png": "[encoded data removed]",
      "text/plain": [
       "<Figure size 432x288 with 1 Axes>"
      ]
     },
     "metadata": {},
     "output_type": "display_data"
    }
   ],
   "source": [
    "priorities = [278, 149, 59, 47, 43, 16]\n",
    "labelz = ['Livelihood/Employment', 'Education ', 'Drug addiction', 'Pun', 'Civic services', 'Agriculture reforms']\n",
    "plt.pie(priorities)\n",
    "plt.title('Priorities people selected')\n",
    "plt.legend(labelz, bbox_to_anchor=(0.85,1.025), loc=\"upper left\")\n",
    "plt.show()"
   ]
  },
  {
   "cell_type": "code",
   "execution_count": 46,
   "id": "9ba0f4c3",
   "metadata": {},
   "outputs": [
    {
     "data": {
      "text/plain": [
       "Bathinda                                   3\n",
       "Patiala                                    3\n",
       "Gurdaspur                                  3\n",
       "Dasuya                                     3\n",
       "Kapurthala                                 2\n",
       "hh                                         2\n",
       "Amritsar                                   1\n",
       "Gurdev nagar                               1\n",
       "Jag                                        1\n",
       "Jalandhar                                  1\n",
       "Chennai                                    1\n",
       ",ਮੁਕੇਰੀਆ                                   1\n",
       "Mukerian                                   1\n",
       "Jalandar                                   1\n",
       "Ludhiana                                   1\n",
       "Ki                                         1\n",
       "Nurpur                                     1\n",
       "bathinda                                   1\n",
       "Why                                        1\n",
       "Batala                                     1\n",
       "Pathankot Punjab India                     1\n",
       "idk                                        1\n",
       "Hiana kalan                                1\n",
       "Khalwan dona                               1\n",
       "Hajipur                                    1\n",
       "chandigarh                                 1\n",
       "Ok                                         1\n",
       "Patiala post office Sanour                 1\n",
       "Old Fazilka road                           1\n",
       "Daulatpur patiala                          1\n",
       "Datarpur                                   1\n",
       "dosarka                                    1\n",
       "Bhilowal katcha                            1\n",
       "Pathankot                                  1\n",
       "Ramesh                                     1\n",
       "Fgs                                        1\n",
       "Padrana                                    1\n",
       "144205                                     1\n",
       "mukerian                                   1\n",
       ".mukerian                                  1\n",
       "Sathiala (asr)                             1\n",
       "Kapurthala sheikhupur                      1\n",
       "Gurunanak pura near kot khalsa amritsar    1\n",
       "Gh                                         1\n",
       "Abhour                                     1\n",
       "Fatehgarh Sahib                            1\n",
       "Adamwal                                    1\n",
       "Nanaga                                     1\n",
       "vill .harse mansar teh mukerian            1\n",
       "Possi                                      1\n",
       "Hoshiarpur                                 1\n",
       "Mohali                                     1\n",
       "Name: locality_name, dtype: int64"
      ]
     },
     "execution_count": 46,
     "metadata": {},
     "output_type": "execute_result"
    }
   ],
   "source": [
    "punjab['locality_name'].value_counts()"
   ]
  },
  {
   "cell_type": "markdown",
   "id": "714c372e",
   "metadata": {},
   "source": [
    "1- No need to clean data here since the sample size was in 800's"
   ]
  },
  {
   "cell_type": "markdown",
   "id": "1f6dcce4",
   "metadata": {},
   "source": [
    "2- 50% of the people have issues regarding unemployment "
   ]
  },
  {
   "cell_type": "code",
   "execution_count": null,
   "id": "5bc61fbc",
   "metadata": {},
   "outputs": [],
   "source": []
  }
 ],
 "metadata": {
  "kernelspec": {
   "display_name": "Python 3",
   "language": "python",
   "name": "python3"
  },
  "language_info": {
   "codemirror_mode": {
    "name": "ipython",
    "version": 3
   },
   "file_extension": ".py",
   "mimetype": "text/x-python",
   "name": "python",
   "nbconvert_exporter": "python",
   "pygments_lexer": "ipython3",
   "version": "3.8.8"
  }
 },
 "nbformat": 4,
 "nbformat_minor": 5
}
