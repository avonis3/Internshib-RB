{
 "cells": [
  {
   "cell_type": "markdown",
   "id": "454d459d",
   "metadata": {},
   "source": [
    "# Street Audit Data"
   ]
  },
  {
   "cell_type": "markdown",
   "id": "24493fd0",
   "metadata": {},
   "source": [
    "### We have a dataset with 39 entries here, Let's see what problems people are facing in their surrounding."
   ]
  },
  {
   "cell_type": "markdown",
   "id": "5ea5c084",
   "metadata": {},
   "source": [
    "## Importing data and Libraries"
   ]
  },
  {
   "cell_type": "code",
   "execution_count": 5,
   "id": "7c714eb7",
   "metadata": {},
   "outputs": [],
   "source": [
    "import pandas as pd\n",
    "from matplotlib import pyplot as plt\n",
    "import matplotlib.patches"
   ]
  },
  {
   "cell_type": "markdown",
   "id": "4837078b",
   "metadata": {},
   "source": [
    "## Exploring and Cleaning data"
   ]
  },
  {
   "cell_type": "code",
   "execution_count": 6,
   "id": "18c25f16",
   "metadata": {},
   "outputs": [],
   "source": [
    "responses = pd.read_csv('results-20220331-181556 - results-20220331-181556.csv')"
   ]
  },
  {
   "cell_type": "code",
   "execution_count": 7,
   "id": "7660c2c9",
   "metadata": {},
   "outputs": [
    {
     "data": {
      "text/html": [
       "<div>\n",
       "<style scoped>\n",
       "    .dataframe tbody tr th:only-of-type {\n",
       "        vertical-align: middle;\n",
       "    }\n",
       "\n",
       "    .dataframe tbody tr th {\n",
       "        vertical-align: top;\n",
       "    }\n",
       "\n",
       "    .dataframe thead th {\n",
       "        text-align: right;\n",
       "    }\n",
       "</style>\n",
       "<table border=\"1\" class=\"dataframe\">\n",
       "  <thead>\n",
       "    <tr style=\"text-align: right;\">\n",
       "      <th></th>\n",
       "      <th>inserted_at</th>\n",
       "      <th>street_state</th>\n",
       "      <th>street_cityordistrict</th>\n",
       "      <th>street_ward</th>\n",
       "      <th>street_wardnumber</th>\n",
       "      <th>street_pic</th>\n",
       "      <th>area_type</th>\n",
       "      <th>street_houses</th>\n",
       "      <th>street_pothole</th>\n",
       "      <th>street_footpath</th>\n",
       "      <th>...</th>\n",
       "      <th>street_stormwater</th>\n",
       "      <th>street_flood</th>\n",
       "      <th>street_waterwastage</th>\n",
       "      <th>street_frequency_waste</th>\n",
       "      <th>street_blackspots</th>\n",
       "      <th>street_dustbin</th>\n",
       "      <th>street_overflow</th>\n",
       "      <th>street_burning</th>\n",
       "      <th>street_open</th>\n",
       "      <th>street_rodents</th>\n",
       "    </tr>\n",
       "  </thead>\n",
       "  <tbody>\n",
       "    <tr>\n",
       "      <th>0</th>\n",
       "      <td>2022-02-19 15:47:02</td>\n",
       "      <td>All Responses</td>\n",
       "      <td>Banglore</td>\n",
       "      <td>Na</td>\n",
       "      <td>Na</td>\n",
       "      <td>https://filemanager.gupshup.io/fm/wamedia/RBGl...</td>\n",
       "      <td>RESIDENTIAL</td>\n",
       "      <td>100.0</td>\n",
       "      <td>NO</td>\n",
       "      <td>YES</td>\n",
       "      <td>...</td>\n",
       "      <td>NO</td>\n",
       "      <td>NO</td>\n",
       "      <td>NO</td>\n",
       "      <td>Daily</td>\n",
       "      <td>NO</td>\n",
       "      <td>NO</td>\n",
       "      <td>NO</td>\n",
       "      <td>NO</td>\n",
       "      <td>NO</td>\n",
       "      <td>OCCASIONALLY</td>\n",
       "    </tr>\n",
       "    <tr>\n",
       "      <th>1</th>\n",
       "      <td>2022-03-02 16:58:44</td>\n",
       "      <td>All Responses</td>\n",
       "      <td>Chennai</td>\n",
       "      <td>Adyar</td>\n",
       "      <td>177</td>\n",
       "      <td>https://filemanager.gupshup.io/fm/wamedia/RBGl...</td>\n",
       "      <td>RESIDENTIAL</td>\n",
       "      <td>11.0</td>\n",
       "      <td>YES</td>\n",
       "      <td>YES</td>\n",
       "      <td>...</td>\n",
       "      <td>YES</td>\n",
       "      <td>Yes, Not severe</td>\n",
       "      <td>NO</td>\n",
       "      <td>5-6 times a week</td>\n",
       "      <td>NO</td>\n",
       "      <td>NO</td>\n",
       "      <td>NO</td>\n",
       "      <td>NO</td>\n",
       "      <td>NO</td>\n",
       "      <td>OCCASIONALLY</td>\n",
       "    </tr>\n",
       "    <tr>\n",
       "      <th>2</th>\n",
       "      <td>2022-03-15 12:57:22</td>\n",
       "      <td>All Responses</td>\n",
       "      <td>Abc</td>\n",
       "      <td>Na</td>\n",
       "      <td>Na</td>\n",
       "      <td>https://filemanager.gupshup.io/fm/wamedia/RBGl...</td>\n",
       "      <td>INDUSTRIAL</td>\n",
       "      <td>88.0</td>\n",
       "      <td>NO</td>\n",
       "      <td>Not good condition</td>\n",
       "      <td>...</td>\n",
       "      <td>NO</td>\n",
       "      <td>NO</td>\n",
       "      <td>NO</td>\n",
       "      <td>No Collection</td>\n",
       "      <td>NO</td>\n",
       "      <td>NO</td>\n",
       "      <td>NO</td>\n",
       "      <td>NO</td>\n",
       "      <td>NO</td>\n",
       "      <td>NO</td>\n",
       "    </tr>\n",
       "    <tr>\n",
       "      <th>3</th>\n",
       "      <td>2022-03-15 12:56:11</td>\n",
       "      <td>All Responses</td>\n",
       "      <td>NaN</td>\n",
       "      <td>NaN</td>\n",
       "      <td>NaN</td>\n",
       "      <td>NaN</td>\n",
       "      <td>NaN</td>\n",
       "      <td>NaN</td>\n",
       "      <td>NaN</td>\n",
       "      <td>NaN</td>\n",
       "      <td>...</td>\n",
       "      <td>NaN</td>\n",
       "      <td>NaN</td>\n",
       "      <td>NaN</td>\n",
       "      <td>NaN</td>\n",
       "      <td>NaN</td>\n",
       "      <td>NaN</td>\n",
       "      <td>NaN</td>\n",
       "      <td>NaN</td>\n",
       "      <td>NaN</td>\n",
       "      <td>NaN</td>\n",
       "    </tr>\n",
       "    <tr>\n",
       "      <th>4</th>\n",
       "      <td>2022-02-19 18:25:06</td>\n",
       "      <td>All Responses</td>\n",
       "      <td>kk</td>\n",
       "      <td>na</td>\n",
       "      <td>100</td>\n",
       "      <td>https://filemanager.gupshup.io/fm/wamedia/RBGl...</td>\n",
       "      <td>INDUSTRIAL</td>\n",
       "      <td>10.0</td>\n",
       "      <td>NO</td>\n",
       "      <td>YES</td>\n",
       "      <td>...</td>\n",
       "      <td>NO</td>\n",
       "      <td>NO</td>\n",
       "      <td>NO</td>\n",
       "      <td>Daily</td>\n",
       "      <td>NO</td>\n",
       "      <td>NO</td>\n",
       "      <td>NO</td>\n",
       "      <td>NO</td>\n",
       "      <td>NO</td>\n",
       "      <td>NO</td>\n",
       "    </tr>\n",
       "  </tbody>\n",
       "</table>\n",
       "<p>5 rows × 28 columns</p>\n",
       "</div>"
      ],
      "text/plain": [
       "           inserted_at   street_state street_cityordistrict street_ward  \\\n",
       "0  2022-02-19 15:47:02  All Responses              Banglore          Na   \n",
       "1  2022-03-02 16:58:44  All Responses               Chennai       Adyar   \n",
       "2  2022-03-15 12:57:22  All Responses                   Abc          Na   \n",
       "3  2022-03-15 12:56:11  All Responses                   NaN         NaN   \n",
       "4  2022-02-19 18:25:06  All Responses                    kk          na   \n",
       "\n",
       "  street_wardnumber                                         street_pic  \\\n",
       "0                Na  https://filemanager.gupshup.io/fm/wamedia/RBGl...   \n",
       "1               177  https://filemanager.gupshup.io/fm/wamedia/RBGl...   \n",
       "2                Na  https://filemanager.gupshup.io/fm/wamedia/RBGl...   \n",
       "3               NaN                                                NaN   \n",
       "4               100  https://filemanager.gupshup.io/fm/wamedia/RBGl...   \n",
       "\n",
       "     area_type  street_houses street_pothole     street_footpath  ...  \\\n",
       "0  RESIDENTIAL          100.0             NO                 YES  ...   \n",
       "1  RESIDENTIAL           11.0            YES                 YES  ...   \n",
       "2   INDUSTRIAL           88.0             NO  Not good condition  ...   \n",
       "3          NaN            NaN            NaN                 NaN  ...   \n",
       "4   INDUSTRIAL           10.0             NO                 YES  ...   \n",
       "\n",
       "  street_stormwater     street_flood  street_waterwastage  \\\n",
       "0                NO               NO                   NO   \n",
       "1               YES  Yes, Not severe                   NO   \n",
       "2                NO               NO                   NO   \n",
       "3               NaN              NaN                  NaN   \n",
       "4                NO               NO                   NO   \n",
       "\n",
       "   street_frequency_waste street_blackspots street_dustbin street_overflow  \\\n",
       "0                   Daily                NO             NO              NO   \n",
       "1        5-6 times a week                NO             NO              NO   \n",
       "2           No Collection                NO             NO              NO   \n",
       "3                     NaN               NaN            NaN             NaN   \n",
       "4                   Daily                NO             NO              NO   \n",
       "\n",
       "  street_burning street_open street_rodents  \n",
       "0             NO          NO   OCCASIONALLY  \n",
       "1             NO          NO   OCCASIONALLY  \n",
       "2             NO          NO             NO  \n",
       "3            NaN         NaN            NaN  \n",
       "4             NO          NO             NO  \n",
       "\n",
       "[5 rows x 28 columns]"
      ]
     },
     "execution_count": 7,
     "metadata": {},
     "output_type": "execute_result"
    }
   ],
   "source": [
    "responses.head()"
   ]
  },
  {
   "cell_type": "code",
   "execution_count": 8,
   "id": "255c71fc",
   "metadata": {},
   "outputs": [
    {
     "name": "stdout",
     "output_type": "stream",
     "text": [
      "<class 'pandas.core.frame.DataFrame'>\n",
      "RangeIndex: 39 entries, 0 to 38\n",
      "Data columns (total 28 columns):\n",
      " #   Column                      Non-Null Count  Dtype  \n",
      "---  ------                      --------------  -----  \n",
      " 0   inserted_at                 39 non-null     object \n",
      " 1   street_state                38 non-null     object \n",
      " 2   street_cityordistrict       37 non-null     object \n",
      " 3   street_ward                 18 non-null     object \n",
      " 4   street_wardnumber           15 non-null     object \n",
      " 5   street_pic                  24 non-null     object \n",
      " 6   area_type                   23 non-null     object \n",
      " 7   street_houses               23 non-null     float64\n",
      " 8   street_pothole              23 non-null     object \n",
      " 9   street_footpath             23 non-null     object \n",
      " 10  street_vehicles             23 non-null     object \n",
      " 11  street_parkingissue         23 non-null     object \n",
      " 12  street_streetlights         23 non-null     float64\n",
      " 13  street_workingstreetlights  22 non-null     float64\n",
      " 14  street_signboards           22 non-null     object \n",
      " 15  street_transformers         21 non-null     object \n",
      " 16  street_safe                 21 non-null     object \n",
      " 17  street_unsafe               5 non-null      object \n",
      " 18  street_stormwater           21 non-null     object \n",
      " 19  street_flood                21 non-null     object \n",
      " 20  street_waterwastage         21 non-null     object \n",
      " 21  street_frequency_waste      21 non-null     object \n",
      " 22  street_blackspots           21 non-null     object \n",
      " 23  street_dustbin              21 non-null     object \n",
      " 24  street_overflow             21 non-null     object \n",
      " 25  street_burning              21 non-null     object \n",
      " 26  street_open                 21 non-null     object \n",
      " 27  street_rodents              21 non-null     object \n",
      "dtypes: float64(3), object(25)\n",
      "memory usage: 8.7+ KB\n"
     ]
    }
   ],
   "source": [
    "responses.info()"
   ]
  },
  {
   "cell_type": "code",
   "execution_count": 9,
   "id": "07a83427",
   "metadata": {},
   "outputs": [
    {
     "data": {
      "text/html": [
       "<div>\n",
       "<style scoped>\n",
       "    .dataframe tbody tr th:only-of-type {\n",
       "        vertical-align: middle;\n",
       "    }\n",
       "\n",
       "    .dataframe tbody tr th {\n",
       "        vertical-align: top;\n",
       "    }\n",
       "\n",
       "    .dataframe thead th {\n",
       "        text-align: right;\n",
       "    }\n",
       "</style>\n",
       "<table border=\"1\" class=\"dataframe\">\n",
       "  <thead>\n",
       "    <tr style=\"text-align: right;\">\n",
       "      <th></th>\n",
       "      <th>street_houses</th>\n",
       "      <th>street_streetlights</th>\n",
       "      <th>street_workingstreetlights</th>\n",
       "    </tr>\n",
       "  </thead>\n",
       "  <tbody>\n",
       "    <tr>\n",
       "      <th>count</th>\n",
       "      <td>23.000000</td>\n",
       "      <td>23.000000</td>\n",
       "      <td>22.000000</td>\n",
       "    </tr>\n",
       "    <tr>\n",
       "      <th>mean</th>\n",
       "      <td>81.000000</td>\n",
       "      <td>12.000000</td>\n",
       "      <td>2.681818</td>\n",
       "    </tr>\n",
       "    <tr>\n",
       "      <th>std</th>\n",
       "      <td>156.156681</td>\n",
       "      <td>15.579707</td>\n",
       "      <td>5.121257</td>\n",
       "    </tr>\n",
       "    <tr>\n",
       "      <th>min</th>\n",
       "      <td>2.000000</td>\n",
       "      <td>0.000000</td>\n",
       "      <td>0.000000</td>\n",
       "    </tr>\n",
       "    <tr>\n",
       "      <th>25%</th>\n",
       "      <td>11.500000</td>\n",
       "      <td>4.500000</td>\n",
       "      <td>0.000000</td>\n",
       "    </tr>\n",
       "    <tr>\n",
       "      <th>50%</th>\n",
       "      <td>25.000000</td>\n",
       "      <td>9.000000</td>\n",
       "      <td>0.000000</td>\n",
       "    </tr>\n",
       "    <tr>\n",
       "      <th>75%</th>\n",
       "      <td>74.000000</td>\n",
       "      <td>15.000000</td>\n",
       "      <td>1.750000</td>\n",
       "    </tr>\n",
       "    <tr>\n",
       "      <th>max</th>\n",
       "      <td>720.000000</td>\n",
       "      <td>77.000000</td>\n",
       "      <td>20.000000</td>\n",
       "    </tr>\n",
       "  </tbody>\n",
       "</table>\n",
       "</div>"
      ],
      "text/plain": [
       "       street_houses  street_streetlights  street_workingstreetlights\n",
       "count      23.000000            23.000000                   22.000000\n",
       "mean       81.000000            12.000000                    2.681818\n",
       "std       156.156681            15.579707                    5.121257\n",
       "min         2.000000             0.000000                    0.000000\n",
       "25%        11.500000             4.500000                    0.000000\n",
       "50%        25.000000             9.000000                    0.000000\n",
       "75%        74.000000            15.000000                    1.750000\n",
       "max       720.000000            77.000000                   20.000000"
      ]
     },
     "execution_count": 9,
     "metadata": {},
     "output_type": "execute_result"
    }
   ],
   "source": [
    "responses.describe()"
   ]
  },
  {
   "cell_type": "code",
   "execution_count": 10,
   "id": "0455057b",
   "metadata": {},
   "outputs": [
    {
     "data": {
      "text/plain": [
       "(39, 28)"
      ]
     },
     "execution_count": 10,
     "metadata": {},
     "output_type": "execute_result"
    }
   ],
   "source": [
    "responses.shape"
   ]
  },
  {
   "cell_type": "code",
   "execution_count": 11,
   "id": "b9cb9497",
   "metadata": {},
   "outputs": [
    {
     "data": {
      "text/plain": [
       "inserted_at                    0\n",
       "street_state                   1\n",
       "street_cityordistrict          2\n",
       "street_ward                   21\n",
       "street_wardnumber             24\n",
       "street_pic                    15\n",
       "area_type                     16\n",
       "street_houses                 16\n",
       "street_pothole                16\n",
       "street_footpath               16\n",
       "street_vehicles               16\n",
       "street_parkingissue           16\n",
       "street_streetlights           16\n",
       "street_workingstreetlights    17\n",
       "street_signboards             17\n",
       "street_transformers           18\n",
       "street_safe                   18\n",
       "street_unsafe                 34\n",
       "street_stormwater             18\n",
       "street_flood                  18\n",
       "street_waterwastage           18\n",
       "street_frequency_waste        18\n",
       "street_blackspots             18\n",
       "street_dustbin                18\n",
       "street_overflow               18\n",
       "street_burning                18\n",
       "street_open                   18\n",
       "street_rodents                18\n",
       "dtype: int64"
      ]
     },
     "execution_count": 11,
     "metadata": {},
     "output_type": "execute_result"
    }
   ],
   "source": [
    "responses.isnull().sum()"
   ]
  },
  {
   "cell_type": "code",
   "execution_count": 12,
   "id": "a569f288",
   "metadata": {},
   "outputs": [],
   "source": [
    "cleaned = responses.dropna(subset = ['area_type'])          # Cleaned dataset"
   ]
  },
  {
   "cell_type": "markdown",
   "id": "b4ff5a81",
   "metadata": {},
   "source": [
    "### Exploring the new cleaned dataset"
   ]
  },
  {
   "cell_type": "code",
   "execution_count": 13,
   "id": "db45509c",
   "metadata": {},
   "outputs": [
    {
     "data": {
      "text/html": [
       "<div>\n",
       "<style scoped>\n",
       "    .dataframe tbody tr th:only-of-type {\n",
       "        vertical-align: middle;\n",
       "    }\n",
       "\n",
       "    .dataframe tbody tr th {\n",
       "        vertical-align: top;\n",
       "    }\n",
       "\n",
       "    .dataframe thead th {\n",
       "        text-align: right;\n",
       "    }\n",
       "</style>\n",
       "<table border=\"1\" class=\"dataframe\">\n",
       "  <thead>\n",
       "    <tr style=\"text-align: right;\">\n",
       "      <th></th>\n",
       "      <th>inserted_at</th>\n",
       "      <th>street_state</th>\n",
       "      <th>street_cityordistrict</th>\n",
       "      <th>street_ward</th>\n",
       "      <th>street_wardnumber</th>\n",
       "      <th>street_pic</th>\n",
       "      <th>area_type</th>\n",
       "      <th>street_houses</th>\n",
       "      <th>street_pothole</th>\n",
       "      <th>street_footpath</th>\n",
       "      <th>...</th>\n",
       "      <th>street_stormwater</th>\n",
       "      <th>street_flood</th>\n",
       "      <th>street_waterwastage</th>\n",
       "      <th>street_frequency_waste</th>\n",
       "      <th>street_blackspots</th>\n",
       "      <th>street_dustbin</th>\n",
       "      <th>street_overflow</th>\n",
       "      <th>street_burning</th>\n",
       "      <th>street_open</th>\n",
       "      <th>street_rodents</th>\n",
       "    </tr>\n",
       "  </thead>\n",
       "  <tbody>\n",
       "    <tr>\n",
       "      <th>0</th>\n",
       "      <td>2022-02-19 15:47:02</td>\n",
       "      <td>All Responses</td>\n",
       "      <td>Banglore</td>\n",
       "      <td>Na</td>\n",
       "      <td>Na</td>\n",
       "      <td>https://filemanager.gupshup.io/fm/wamedia/RBGl...</td>\n",
       "      <td>RESIDENTIAL</td>\n",
       "      <td>100.0</td>\n",
       "      <td>NO</td>\n",
       "      <td>YES</td>\n",
       "      <td>...</td>\n",
       "      <td>NO</td>\n",
       "      <td>NO</td>\n",
       "      <td>NO</td>\n",
       "      <td>Daily</td>\n",
       "      <td>NO</td>\n",
       "      <td>NO</td>\n",
       "      <td>NO</td>\n",
       "      <td>NO</td>\n",
       "      <td>NO</td>\n",
       "      <td>OCCASIONALLY</td>\n",
       "    </tr>\n",
       "    <tr>\n",
       "      <th>1</th>\n",
       "      <td>2022-03-02 16:58:44</td>\n",
       "      <td>All Responses</td>\n",
       "      <td>Chennai</td>\n",
       "      <td>Adyar</td>\n",
       "      <td>177</td>\n",
       "      <td>https://filemanager.gupshup.io/fm/wamedia/RBGl...</td>\n",
       "      <td>RESIDENTIAL</td>\n",
       "      <td>11.0</td>\n",
       "      <td>YES</td>\n",
       "      <td>YES</td>\n",
       "      <td>...</td>\n",
       "      <td>YES</td>\n",
       "      <td>Yes, Not severe</td>\n",
       "      <td>NO</td>\n",
       "      <td>5-6 times a week</td>\n",
       "      <td>NO</td>\n",
       "      <td>NO</td>\n",
       "      <td>NO</td>\n",
       "      <td>NO</td>\n",
       "      <td>NO</td>\n",
       "      <td>OCCASIONALLY</td>\n",
       "    </tr>\n",
       "    <tr>\n",
       "      <th>2</th>\n",
       "      <td>2022-03-15 12:57:22</td>\n",
       "      <td>All Responses</td>\n",
       "      <td>Abc</td>\n",
       "      <td>Na</td>\n",
       "      <td>Na</td>\n",
       "      <td>https://filemanager.gupshup.io/fm/wamedia/RBGl...</td>\n",
       "      <td>INDUSTRIAL</td>\n",
       "      <td>88.0</td>\n",
       "      <td>NO</td>\n",
       "      <td>Not good condition</td>\n",
       "      <td>...</td>\n",
       "      <td>NO</td>\n",
       "      <td>NO</td>\n",
       "      <td>NO</td>\n",
       "      <td>No Collection</td>\n",
       "      <td>NO</td>\n",
       "      <td>NO</td>\n",
       "      <td>NO</td>\n",
       "      <td>NO</td>\n",
       "      <td>NO</td>\n",
       "      <td>NO</td>\n",
       "    </tr>\n",
       "    <tr>\n",
       "      <th>4</th>\n",
       "      <td>2022-02-19 18:25:06</td>\n",
       "      <td>All Responses</td>\n",
       "      <td>kk</td>\n",
       "      <td>na</td>\n",
       "      <td>100</td>\n",
       "      <td>https://filemanager.gupshup.io/fm/wamedia/RBGl...</td>\n",
       "      <td>INDUSTRIAL</td>\n",
       "      <td>10.0</td>\n",
       "      <td>NO</td>\n",
       "      <td>YES</td>\n",
       "      <td>...</td>\n",
       "      <td>NO</td>\n",
       "      <td>NO</td>\n",
       "      <td>NO</td>\n",
       "      <td>Daily</td>\n",
       "      <td>NO</td>\n",
       "      <td>NO</td>\n",
       "      <td>NO</td>\n",
       "      <td>NO</td>\n",
       "      <td>NO</td>\n",
       "      <td>NO</td>\n",
       "    </tr>\n",
       "    <tr>\n",
       "      <th>5</th>\n",
       "      <td>2022-02-22 13:38:50</td>\n",
       "      <td>All Responses</td>\n",
       "      <td>Bangalore</td>\n",
       "      <td>Hudi</td>\n",
       "      <td>54</td>\n",
       "      <td>https://filemanager.gupshup.io/fm/wamedia/RBGl...</td>\n",
       "      <td>RESIDENTIAL</td>\n",
       "      <td>10.0</td>\n",
       "      <td>YES</td>\n",
       "      <td>Not good condition</td>\n",
       "      <td>...</td>\n",
       "      <td>YES</td>\n",
       "      <td>Yes, Not severe</td>\n",
       "      <td>YES</td>\n",
       "      <td>Daily</td>\n",
       "      <td>YES</td>\n",
       "      <td>YES</td>\n",
       "      <td>YES</td>\n",
       "      <td>YES</td>\n",
       "      <td>YES</td>\n",
       "      <td>NO</td>\n",
       "    </tr>\n",
       "  </tbody>\n",
       "</table>\n",
       "<p>5 rows × 28 columns</p>\n",
       "</div>"
      ],
      "text/plain": [
       "           inserted_at   street_state street_cityordistrict street_ward  \\\n",
       "0  2022-02-19 15:47:02  All Responses              Banglore          Na   \n",
       "1  2022-03-02 16:58:44  All Responses               Chennai       Adyar   \n",
       "2  2022-03-15 12:57:22  All Responses                   Abc          Na   \n",
       "4  2022-02-19 18:25:06  All Responses                    kk          na   \n",
       "5  2022-02-22 13:38:50  All Responses             Bangalore        Hudi   \n",
       "\n",
       "  street_wardnumber                                         street_pic  \\\n",
       "0                Na  https://filemanager.gupshup.io/fm/wamedia/RBGl...   \n",
       "1               177  https://filemanager.gupshup.io/fm/wamedia/RBGl...   \n",
       "2                Na  https://filemanager.gupshup.io/fm/wamedia/RBGl...   \n",
       "4               100  https://filemanager.gupshup.io/fm/wamedia/RBGl...   \n",
       "5                54  https://filemanager.gupshup.io/fm/wamedia/RBGl...   \n",
       "\n",
       "     area_type  street_houses street_pothole     street_footpath  ...  \\\n",
       "0  RESIDENTIAL          100.0             NO                 YES  ...   \n",
       "1  RESIDENTIAL           11.0            YES                 YES  ...   \n",
       "2   INDUSTRIAL           88.0             NO  Not good condition  ...   \n",
       "4   INDUSTRIAL           10.0             NO                 YES  ...   \n",
       "5  RESIDENTIAL           10.0            YES  Not good condition  ...   \n",
       "\n",
       "  street_stormwater     street_flood  street_waterwastage  \\\n",
       "0                NO               NO                   NO   \n",
       "1               YES  Yes, Not severe                   NO   \n",
       "2                NO               NO                   NO   \n",
       "4                NO               NO                   NO   \n",
       "5               YES  Yes, Not severe                  YES   \n",
       "\n",
       "   street_frequency_waste street_blackspots street_dustbin street_overflow  \\\n",
       "0                   Daily                NO             NO              NO   \n",
       "1        5-6 times a week                NO             NO              NO   \n",
       "2           No Collection                NO             NO              NO   \n",
       "4                   Daily                NO             NO              NO   \n",
       "5                   Daily               YES            YES             YES   \n",
       "\n",
       "  street_burning street_open street_rodents  \n",
       "0             NO          NO   OCCASIONALLY  \n",
       "1             NO          NO   OCCASIONALLY  \n",
       "2             NO          NO             NO  \n",
       "4             NO          NO             NO  \n",
       "5            YES         YES             NO  \n",
       "\n",
       "[5 rows x 28 columns]"
      ]
     },
     "execution_count": 13,
     "metadata": {},
     "output_type": "execute_result"
    }
   ],
   "source": [
    "cleaned.head()"
   ]
  },
  {
   "cell_type": "code",
   "execution_count": 14,
   "id": "8f3e4842",
   "metadata": {},
   "outputs": [
    {
     "data": {
      "text/plain": [
       "(23, 28)"
      ]
     },
     "execution_count": 14,
     "metadata": {},
     "output_type": "execute_result"
    }
   ],
   "source": [
    "cleaned.shape                  # Checking the dimensions after cleaning it "
   ]
  },
  {
   "cell_type": "code",
   "execution_count": 15,
   "id": "007f91fc",
   "metadata": {},
   "outputs": [
    {
     "data": {
      "text/html": [
       "<div>\n",
       "<style scoped>\n",
       "    .dataframe tbody tr th:only-of-type {\n",
       "        vertical-align: middle;\n",
       "    }\n",
       "\n",
       "    .dataframe tbody tr th {\n",
       "        vertical-align: top;\n",
       "    }\n",
       "\n",
       "    .dataframe thead th {\n",
       "        text-align: right;\n",
       "    }\n",
       "</style>\n",
       "<table border=\"1\" class=\"dataframe\">\n",
       "  <thead>\n",
       "    <tr style=\"text-align: right;\">\n",
       "      <th></th>\n",
       "      <th>street_houses</th>\n",
       "      <th>street_streetlights</th>\n",
       "      <th>street_workingstreetlights</th>\n",
       "    </tr>\n",
       "  </thead>\n",
       "  <tbody>\n",
       "    <tr>\n",
       "      <th>count</th>\n",
       "      <td>23.000000</td>\n",
       "      <td>23.000000</td>\n",
       "      <td>22.000000</td>\n",
       "    </tr>\n",
       "    <tr>\n",
       "      <th>mean</th>\n",
       "      <td>81.000000</td>\n",
       "      <td>12.000000</td>\n",
       "      <td>2.681818</td>\n",
       "    </tr>\n",
       "    <tr>\n",
       "      <th>std</th>\n",
       "      <td>156.156681</td>\n",
       "      <td>15.579707</td>\n",
       "      <td>5.121257</td>\n",
       "    </tr>\n",
       "    <tr>\n",
       "      <th>min</th>\n",
       "      <td>2.000000</td>\n",
       "      <td>0.000000</td>\n",
       "      <td>0.000000</td>\n",
       "    </tr>\n",
       "    <tr>\n",
       "      <th>25%</th>\n",
       "      <td>11.500000</td>\n",
       "      <td>4.500000</td>\n",
       "      <td>0.000000</td>\n",
       "    </tr>\n",
       "    <tr>\n",
       "      <th>50%</th>\n",
       "      <td>25.000000</td>\n",
       "      <td>9.000000</td>\n",
       "      <td>0.000000</td>\n",
       "    </tr>\n",
       "    <tr>\n",
       "      <th>75%</th>\n",
       "      <td>74.000000</td>\n",
       "      <td>15.000000</td>\n",
       "      <td>1.750000</td>\n",
       "    </tr>\n",
       "    <tr>\n",
       "      <th>max</th>\n",
       "      <td>720.000000</td>\n",
       "      <td>77.000000</td>\n",
       "      <td>20.000000</td>\n",
       "    </tr>\n",
       "  </tbody>\n",
       "</table>\n",
       "</div>"
      ],
      "text/plain": [
       "       street_houses  street_streetlights  street_workingstreetlights\n",
       "count      23.000000            23.000000                   22.000000\n",
       "mean       81.000000            12.000000                    2.681818\n",
       "std       156.156681            15.579707                    5.121257\n",
       "min         2.000000             0.000000                    0.000000\n",
       "25%        11.500000             4.500000                    0.000000\n",
       "50%        25.000000             9.000000                    0.000000\n",
       "75%        74.000000            15.000000                    1.750000\n",
       "max       720.000000            77.000000                   20.000000"
      ]
     },
     "execution_count": 15,
     "metadata": {},
     "output_type": "execute_result"
    }
   ],
   "source": [
    "cleaned.describe()             # Basic statistics"
   ]
  },
  {
   "cell_type": "markdown",
   "id": "ff24ea29",
   "metadata": {},
   "source": [
    "1- Average number of street_houses are 81 "
   ]
  },
  {
   "cell_type": "markdown",
   "id": "87274a1d",
   "metadata": {},
   "source": [
    "Average number of street lights are 12 on the roads"
   ]
  },
  {
   "cell_type": "markdown",
   "id": "7b8bfad5",
   "metadata": {},
   "source": [
    "The average working street lights are even less, it is round off to 3!"
   ]
  },
  {
   "cell_type": "code",
   "execution_count": 16,
   "id": "33ed8b69",
   "metadata": {},
   "outputs": [
    {
     "data": {
      "text/plain": [
       "inserted_at                    0\n",
       "street_state                   0\n",
       "street_cityordistrict          0\n",
       "street_ward                   12\n",
       "street_wardnumber             12\n",
       "street_pic                     0\n",
       "area_type                      0\n",
       "street_houses                  0\n",
       "street_pothole                 0\n",
       "street_footpath                0\n",
       "street_vehicles                0\n",
       "street_parkingissue            0\n",
       "street_streetlights            0\n",
       "street_workingstreetlights     1\n",
       "street_signboards              1\n",
       "street_transformers            2\n",
       "street_safe                    2\n",
       "street_unsafe                 18\n",
       "street_stormwater              2\n",
       "street_flood                   2\n",
       "street_waterwastage            2\n",
       "street_frequency_waste         2\n",
       "street_blackspots              2\n",
       "street_dustbin                 2\n",
       "street_overflow                2\n",
       "street_burning                 2\n",
       "street_open                    2\n",
       "street_rodents                 2\n",
       "dtype: int64"
      ]
     },
     "execution_count": 16,
     "metadata": {},
     "output_type": "execute_result"
    }
   ],
   "source": [
    "cleaned.isnull().sum()         # Hence our data is now cleaned!"
   ]
  },
  {
   "cell_type": "code",
   "execution_count": 17,
   "id": "743a8af3",
   "metadata": {},
   "outputs": [
    {
     "data": {
      "text/plain": [
       "Chennai                           5\n",
       "Bangalore                         5\n",
       "Mumbai                            2\n",
       "Thanjavur district/ Kumbakonam    1\n",
       "Abc                               1\n",
       "Kharagpur                         1\n",
       "Guntur                            1\n",
       "Ludhiana                          1\n",
       "Osmanabad                         1\n",
       "Banglore                          1\n",
       "Pune                              1\n",
       "kanpur                            1\n",
       "kk                                1\n",
       "Krishnagiri                       1\n",
       "Name: street_cityordistrict, dtype: int64"
      ]
     },
     "execution_count": 17,
     "metadata": {},
     "output_type": "execute_result"
    }
   ],
   "source": [
    "cleaned['street_cityordistrict'].value_counts()    # Locations of people taking this survey"
   ]
  },
  {
   "cell_type": "code",
   "execution_count": 18,
   "id": "c5617840",
   "metadata": {},
   "outputs": [
    {
     "data": {
      "text/plain": [
       "Na                2\n",
       "Hoodi             1\n",
       "Kolathur          1\n",
       "K                 1\n",
       "Hudi              1\n",
       "Ward              1\n",
       "Adyar             1\n",
       "Ward 42           1\n",
       "West midnapore    1\n",
       "na                1\n",
       "Name: street_ward, dtype: int64"
      ]
     },
     "execution_count": 18,
     "metadata": {},
     "output_type": "execute_result"
    }
   ],
   "source": [
    "cleaned['street_ward'].value_counts() # Only 9 people know the name of their ward"
   ]
  },
  {
   "cell_type": "code",
   "execution_count": 19,
   "id": "4a12f64d",
   "metadata": {},
   "outputs": [
    {
     "data": {
      "text/plain": [
       "RESIDENTIAL    17\n",
       "OTHER           3\n",
       "INDUSTRIAL      2\n",
       "Commercial      1\n",
       "Name: area_type, dtype: int64"
      ]
     },
     "execution_count": 19,
     "metadata": {},
     "output_type": "execute_result"
    }
   ],
   "source": [
    "cleaned['area_type'].value_counts()  # 4 categories division "
   ]
  },
  {
   "cell_type": "code",
   "execution_count": 20,
   "id": "f0c3cfdf",
   "metadata": {},
   "outputs": [
    {
     "data": {
      "image/png": "[encoded data removed]",
      "text/plain": [
       "<Figure size 432x288 with 1 Axes>"
      ]
     },
     "metadata": {},
     "output_type": "display_data"
    }
   ],
   "source": [
    "area_type = [17,3,2,1]\n",
    "labelz = ['RESIDENTIAL', 'OTHER', 'INDUSTRIAL', 'Commercial']\n",
    "plt.pie(area_type)\n",
    "plt.title('Types of areas people live in')\n",
    "plt.legend(labelz, bbox_to_anchor=(0.85,1.025), loc=\"upper left\")\n",
    "plt.show()"
   ]
  },
  {
   "cell_type": "code",
   "execution_count": 21,
   "id": "df46c206",
   "metadata": {},
   "outputs": [
    {
     "data": {
      "text/plain": [
       "81.0"
      ]
     },
     "execution_count": 21,
     "metadata": {},
     "output_type": "execute_result"
    }
   ],
   "source": [
    "cleaned.street_houses.mean()                # The average houses on the streets are 81"
   ]
  },
  {
   "cell_type": "code",
   "execution_count": 70,
   "id": "6802f068",
   "metadata": {},
   "outputs": [
    {
     "data": {
      "text/plain": [
       "16"
      ]
     },
     "execution_count": 70,
     "metadata": {},
     "output_type": "execute_result"
    }
   ],
   "source": [
    "cleaned['street_houses'].value_counts().count()  # No of people who filled out this column "
   ]
  },
  {
   "cell_type": "code",
   "execution_count": 33,
   "id": "3846c789",
   "metadata": {},
   "outputs": [
    {
     "data": {
      "image/png": "[encoded data removed]",
      "text/plain": [
       "<Figure size 576x288 with 1 Axes>"
      ]
     },
     "metadata": {
      "needs_background": "light"
     },
     "output_type": "display_data"
    }
   ],
   "source": [
    "plt.figure(figsize = (8,4))\n",
    "plt.scatter((cleaned['area_type']), cleaned['street_houses'])\n",
    "plt.xlabel('Area type')\n",
    "plt.ylabel('Number of houses on street')\n",
    "plt.title('street houses vs area type')\n",
    "plt.show()"
   ]
  },
  {
   "cell_type": "code",
   "execution_count": 36,
   "id": "ed80f0fc",
   "metadata": {},
   "outputs": [
    {
     "data": {
      "text/plain": [
       "YES    12\n",
       "NO     11\n",
       "Name: street_pothole, dtype: int64"
      ]
     },
     "execution_count": 36,
     "metadata": {},
     "output_type": "execute_result"
    }
   ],
   "source": [
    "cleaned['street_pothole'].value_counts()    # 12 people are facing potholes, 11 aren't"
   ]
  },
  {
   "cell_type": "code",
   "execution_count": 37,
   "id": "3e06ee2e",
   "metadata": {},
   "outputs": [
    {
     "data": {
      "text/plain": [
       "YES                   13\n",
       "NO                     7\n",
       "Not good condition     3\n",
       "Name: street_footpath, dtype: int64"
      ]
     },
     "execution_count": 37,
     "metadata": {},
     "output_type": "execute_result"
    }
   ],
   "source": [
    "cleaned['street_footpath'].value_counts()   # 13 people have footpaths. 7 nope. And 3 do have but in bad condition"
   ]
  },
  {
   "cell_type": "code",
   "execution_count": 39,
   "id": "595b9ffc",
   "metadata": {},
   "outputs": [
    {
     "data": {
      "text/plain": [
       "YES    15\n",
       "NO      8\n",
       "Name: street_vehicles, dtype: int64"
      ]
     },
     "execution_count": 39,
     "metadata": {},
     "output_type": "execute_result"
    }
   ],
   "source": [
    "cleaned['street_vehicles'].value_counts()   # 15/23 people's vehicles are parked on the footpath/sides"
   ]
  },
  {
   "cell_type": "code",
   "execution_count": 39,
   "id": "e5a1a127",
   "metadata": {},
   "outputs": [
    {
     "data": {
      "text/plain": [
       "YES    16\n",
       "NO      5\n",
       "Name: street_safe, dtype: int64"
      ]
     },
     "execution_count": 39,
     "metadata": {},
     "output_type": "execute_result"
    }
   ],
   "source": [
    "cleaned['street_safe'].value_counts()       # How many people find their streets safe"
   ]
  },
  {
   "cell_type": "code",
   "execution_count": 53,
   "id": "4098e663",
   "metadata": {},
   "outputs": [
    {
     "data": {
      "text/plain": [
       "NO                 10\n",
       "YES                 6\n",
       "Yes, Not severe     5\n",
       "Name: street_flood, dtype: int64"
      ]
     },
     "execution_count": 53,
     "metadata": {},
     "output_type": "execute_result"
    }
   ],
   "source": [
    "cleaned['street_flood'].value_counts()      # Do the road floods during heavy rains"
   ]
  },
  {
   "cell_type": "code",
   "execution_count": 55,
   "id": "43674fa7",
   "metadata": {},
   "outputs": [
    {
     "data": {
      "text/plain": [
       "NO                 14\n",
       "YES                 6\n",
       "Yes, Not severe     1\n",
       "Name: street_waterwastage, dtype: int64"
      ]
     },
     "execution_count": 55,
     "metadata": {},
     "output_type": "execute_result"
    }
   ],
   "source": [
    "cleaned['street_waterwastage'].value_counts() # If people are observing water wastage on the streets"
   ]
  },
  {
   "cell_type": "code",
   "execution_count": 57,
   "id": "30e361ea",
   "metadata": {},
   "outputs": [
    {
     "data": {
      "text/plain": [
       "Daily               10\n",
       "No Collection        5\n",
       "5-6 times a week     3\n",
       "3-4 times a week     2\n",
       "Once a week          1\n",
       "Name: street_frequency_waste, dtype: int64"
      ]
     },
     "execution_count": 57,
     "metadata": {},
     "output_type": "execute_result"
    }
   ],
   "source": [
    "cleaned['street_frequency_waste'].value_counts()  # Garbage collection frequencies "
   ]
  },
  {
   "cell_type": "code",
   "execution_count": 79,
   "id": "db7945b2",
   "metadata": {},
   "outputs": [
    {
     "data": {
      "image/png": "[encoded data removed]",
      "text/plain": [
       "<Figure size 720x360 with 1 Axes>"
      ]
     },
     "metadata": {
      "needs_background": "light"
     },
     "output_type": "display_data"
    }
   ],
   "source": [
    "area_type = [10,5,3,2,1]\n",
    "plt.figure(figsize = (10,5))\n",
    "labelz = ['daily', 'No collection', '5-6 times a week', '3-4 times a week', 'once a week']\n",
    "plt.bar(labelz, area_type)\n",
    "plt.title('Garbage collection frequencies')\n",
    "#plt.legend(labelz, bbox_to_anchor=(0.85,1.025), loc=\"upper left\")\n",
    "plt.show()"
   ]
  },
  {
   "cell_type": "code",
   "execution_count": 61,
   "id": "0a840f66",
   "metadata": {},
   "outputs": [
    {
     "data": {
      "text/plain": [
       "NO     11\n",
       "YES    10\n",
       "Name: street_blackspots, dtype: int64"
      ]
     },
     "execution_count": 61,
     "metadata": {},
     "output_type": "execute_result"
    }
   ],
   "source": [
    "cleaned['street_blackspots'].value_counts() # 10 people can observe street blackspots out of 21"
   ]
  },
  {
   "cell_type": "code",
   "execution_count": 62,
   "id": "f73f2226",
   "metadata": {},
   "outputs": [
    {
     "data": {
      "text/plain": [
       "NO     14\n",
       "YES     7\n",
       "Name: street_dustbin, dtype: int64"
      ]
     },
     "execution_count": 62,
     "metadata": {},
     "output_type": "execute_result"
    }
   ],
   "source": [
    "cleaned['street_dustbin'].value_counts()   # Only 7 people have street dustbin out of 21"
   ]
  },
  {
   "cell_type": "code",
   "execution_count": 63,
   "id": "5f3952c6",
   "metadata": {},
   "outputs": [
    {
     "data": {
      "text/plain": [
       "NO     18\n",
       "YES     3\n",
       "Name: street_overflow, dtype: int64"
      ]
     },
     "execution_count": 63,
     "metadata": {},
     "output_type": "execute_result"
    }
   ],
   "source": [
    "cleaned['street_overflow'].value_counts()  # 3/7 people dustbin is overflowing out of 21"
   ]
  },
  {
   "cell_type": "code",
   "execution_count": 64,
   "id": "e29ad353",
   "metadata": {},
   "outputs": [
    {
     "data": {
      "text/plain": [
       "NO     17\n",
       "YES     4\n",
       "Name: street_burning, dtype: int64"
      ]
     },
     "execution_count": 64,
     "metadata": {},
     "output_type": "execute_result"
    }
   ],
   "source": [
    "cleaned['street_burning'].value_counts()   # 4/21 people have observed burning of garbage on their streets"
   ]
  },
  {
   "cell_type": "code",
   "execution_count": 65,
   "id": "9d7f6b2d",
   "metadata": {},
   "outputs": [
    {
     "data": {
      "text/plain": [
       "NO              8\n",
       "OCCASIONALLY    8\n",
       "YES             5\n",
       "Name: street_rodents, dtype: int64"
      ]
     },
     "execution_count": 65,
     "metadata": {},
     "output_type": "execute_result"
    }
   ],
   "source": [
    "cleaned['street_rodents'].value_counts()   # 13/21 people face troubles from pests or rodents"
   ]
  },
  {
   "cell_type": "code",
   "execution_count": null,
   "id": "8dea8de4",
   "metadata": {},
   "outputs": [],
   "source": []
  }
 ],
 "metadata": {
  "kernelspec": {
   "display_name": "Python 3",
   "language": "python",
   "name": "python3"
  },
  "language_info": {
   "codemirror_mode": {
    "name": "ipython",
    "version": 3
   },
   "file_extension": ".py",
   "mimetype": "text/x-python",
   "name": "python",
   "nbconvert_exporter": "python",
   "pygments_lexer": "ipython3",
   "version": "3.8.8"
  }
 },
 "nbformat": 4,
 "nbformat_minor": 5
}
