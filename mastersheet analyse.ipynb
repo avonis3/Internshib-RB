{
 "cells": [
  {
   "cell_type": "markdown",
   "id": "46edda17",
   "metadata": {},
   "source": [
    "# Mastersheet analysis \n"
   ]
  },
  {
   "cell_type": "markdown",
   "id": "6825c1a5",
   "metadata": {},
   "source": [
    "## `Task 1`- Four excel sheets are provided, merge them in the format of first 3 and name it mastersheet"
   ]
  },
  {
   "cell_type": "markdown",
   "id": "40641f05",
   "metadata": {},
   "source": [
    "## `Task 2` - Do exploratory analysis on the mastersheet data using python"
   ]
  },
  {
   "cell_type": "markdown",
   "id": "c9c8527b",
   "metadata": {},
   "source": [
    "## `Task 3` - Check how many of them are repeat action takers"
   ]
  },
  {
   "cell_type": "markdown",
   "id": "90ee704c",
   "metadata": {},
   "source": [
    "## `Task 4` - Three questions are being given, which are answered at the end of this code"
   ]
  },
  {
   "cell_type": "markdown",
   "id": "f37408b3",
   "metadata": {},
   "source": [
    "### Importing required libraries and performing analysis\n"
   ]
  },
  {
   "cell_type": "code",
   "execution_count": 1,
   "id": "2fa67380",
   "metadata": {},
   "outputs": [],
   "source": [
    "import pandas as pd\n"
   ]
  },
  {
   "cell_type": "code",
   "execution_count": 50,
   "id": "d8d6a174",
   "metadata": {},
   "outputs": [],
   "source": [
    "df = pd.read_excel('Mastersheet.xlsx')"
   ]
  },
  {
   "cell_type": "code",
   "execution_count": 51,
   "id": "e9c81809",
   "metadata": {},
   "outputs": [
    {
     "data": {
      "text/html": [
       "<div>\n",
       "<style scoped>\n",
       "    .dataframe tbody tr th:only-of-type {\n",
       "        vertical-align: middle;\n",
       "    }\n",
       "\n",
       "    .dataframe tbody tr th {\n",
       "        vertical-align: top;\n",
       "    }\n",
       "\n",
       "    .dataframe thead th {\n",
       "        text-align: right;\n",
       "    }\n",
       "</style>\n",
       "<table border=\"1\" class=\"dataframe\">\n",
       "  <thead>\n",
       "    <tr style=\"text-align: right;\">\n",
       "      <th></th>\n",
       "      <th>Timestamp</th>\n",
       "      <th>Name</th>\n",
       "      <th>Phone Number</th>\n",
       "      <th>Location</th>\n",
       "      <th>Please select the program you are a part of</th>\n",
       "      <th>Name of the school</th>\n",
       "      <th>Grade</th>\n",
       "      <th>Section</th>\n",
       "      <th>Name of the school/college/chapter you are currently associated with</th>\n",
       "      <th>Your age</th>\n",
       "      <th>...</th>\n",
       "      <th>What did you do? Write as if you are writing to a friend.</th>\n",
       "      <th>Success Story Category</th>\n",
       "      <th>Did you engage with a Govt Authority for this success story?</th>\n",
       "      <th>Describe action taken</th>\n",
       "      <th>What is the impact of this action?</th>\n",
       "      <th>Did you facilitate a session for Solve Ninjas/volunteers?</th>\n",
       "      <th>Was the session held online or offline?</th>\n",
       "      <th>How many people attended the session? (In digits)</th>\n",
       "      <th>Which program/chapter was the event conducted for?</th>\n",
       "      <th>Email address</th>\n",
       "    </tr>\n",
       "  </thead>\n",
       "  <tbody>\n",
       "    <tr>\n",
       "      <th>0</th>\n",
       "      <td>44470.722613</td>\n",
       "      <td>Subhani Nadaf</td>\n",
       "      <td>7.259988e+09</td>\n",
       "      <td>Others</td>\n",
       "      <td>Grama Ninjas, Karnataka</td>\n",
       "      <td>NaN</td>\n",
       "      <td>NaN</td>\n",
       "      <td>NaN</td>\n",
       "      <td>GNKP</td>\n",
       "      <td>27.0</td>\n",
       "      <td>...</td>\n",
       "      <td>NaN</td>\n",
       "      <td>NaN</td>\n",
       "      <td>NaN</td>\n",
       "      <td>NaN</td>\n",
       "      <td>NaN</td>\n",
       "      <td>NaN</td>\n",
       "      <td>NaN</td>\n",
       "      <td>NaN</td>\n",
       "      <td>NaN</td>\n",
       "      <td>subhanimn@reapbenefit.org</td>\n",
       "    </tr>\n",
       "    <tr>\n",
       "      <th>1</th>\n",
       "      <td>44476.824505</td>\n",
       "      <td>Subhani Nadaf</td>\n",
       "      <td>9.110859e+09</td>\n",
       "      <td>Others</td>\n",
       "      <td>Grama Ninjas, Karnataka</td>\n",
       "      <td>NaN</td>\n",
       "      <td>NaN</td>\n",
       "      <td>NaN</td>\n",
       "      <td>GNKP</td>\n",
       "      <td>27.0</td>\n",
       "      <td>...</td>\n",
       "      <td>NaN</td>\n",
       "      <td>NaN</td>\n",
       "      <td>NaN</td>\n",
       "      <td>NaN</td>\n",
       "      <td>NaN</td>\n",
       "      <td>NaN</td>\n",
       "      <td>NaN</td>\n",
       "      <td>NaN</td>\n",
       "      <td>NaN</td>\n",
       "      <td>subhanimn@reapbenefit.org</td>\n",
       "    </tr>\n",
       "    <tr>\n",
       "      <th>2</th>\n",
       "      <td>44476.824553</td>\n",
       "      <td>Veeresh k</td>\n",
       "      <td>6.363494e+09</td>\n",
       "      <td>Others</td>\n",
       "      <td>Grama Ninjas, Karnataka</td>\n",
       "      <td>NaN</td>\n",
       "      <td>NaN</td>\n",
       "      <td>NaN</td>\n",
       "      <td>Sudha kuradikeri</td>\n",
       "      <td>13.0</td>\n",
       "      <td>...</td>\n",
       "      <td>NaN</td>\n",
       "      <td>NaN</td>\n",
       "      <td>NaN</td>\n",
       "      <td>NaN</td>\n",
       "      <td>NaN</td>\n",
       "      <td>NaN</td>\n",
       "      <td>NaN</td>\n",
       "      <td>NaN</td>\n",
       "      <td>NaN</td>\n",
       "      <td>veereshkaradi67@gmail.com</td>\n",
       "    </tr>\n",
       "    <tr>\n",
       "      <th>3</th>\n",
       "      <td>44476.825302</td>\n",
       "      <td>Nagini K</td>\n",
       "      <td>9.164380e+09</td>\n",
       "      <td>Others</td>\n",
       "      <td>Grama Ninjas, Karnataka</td>\n",
       "      <td>NaN</td>\n",
       "      <td>NaN</td>\n",
       "      <td>NaN</td>\n",
       "      <td>GNKP</td>\n",
       "      <td>15.0</td>\n",
       "      <td>...</td>\n",
       "      <td>NaN</td>\n",
       "      <td>NaN</td>\n",
       "      <td>NaN</td>\n",
       "      <td>NaN</td>\n",
       "      <td>NaN</td>\n",
       "      <td>NaN</td>\n",
       "      <td>NaN</td>\n",
       "      <td>NaN</td>\n",
       "      <td>NaN</td>\n",
       "      <td>msbanavannavar13@gmail.com</td>\n",
       "    </tr>\n",
       "    <tr>\n",
       "      <th>4</th>\n",
       "      <td>44476.826421</td>\n",
       "      <td>Naganagouda</td>\n",
       "      <td>9.916152e+09</td>\n",
       "      <td>Others</td>\n",
       "      <td>Grama Ninjas, Karnataka</td>\n",
       "      <td>NaN</td>\n",
       "      <td>NaN</td>\n",
       "      <td>NaN</td>\n",
       "      <td>GNKP</td>\n",
       "      <td>30.0</td>\n",
       "      <td>...</td>\n",
       "      <td>NaN</td>\n",
       "      <td>NaN</td>\n",
       "      <td>NaN</td>\n",
       "      <td>NaN</td>\n",
       "      <td>NaN</td>\n",
       "      <td>NaN</td>\n",
       "      <td>NaN</td>\n",
       "      <td>NaN</td>\n",
       "      <td>NaN</td>\n",
       "      <td>naganagoudap123@gmail.com</td>\n",
       "    </tr>\n",
       "  </tbody>\n",
       "</table>\n",
       "<p>5 rows × 36 columns</p>\n",
       "</div>"
      ],
      "text/plain": [
       "      Timestamp          Name   Phone Number Location  \\\n",
       "0  44470.722613  Subhani Nadaf  7.259988e+09   Others   \n",
       "1  44476.824505  Subhani Nadaf  9.110859e+09   Others   \n",
       "2  44476.824553      Veeresh k  6.363494e+09   Others   \n",
       "3  44476.825302       Nagini K  9.164380e+09   Others   \n",
       "4  44476.826421    Naganagouda  9.916152e+09   Others   \n",
       "\n",
       "  Please select the program you are a part of Name of the school  Grade  \\\n",
       "0                     Grama Ninjas, Karnataka                NaN    NaN   \n",
       "1                     Grama Ninjas, Karnataka                NaN    NaN   \n",
       "2                     Grama Ninjas, Karnataka                NaN    NaN   \n",
       "3                     Grama Ninjas, Karnataka                NaN    NaN   \n",
       "4                     Grama Ninjas, Karnataka                NaN    NaN   \n",
       "\n",
       "  Section  \\\n",
       "0     NaN   \n",
       "1     NaN   \n",
       "2     NaN   \n",
       "3     NaN   \n",
       "4     NaN   \n",
       "\n",
       "  Name of the school/college/chapter you are currently associated with  \\\n",
       "0                                               GNKP                     \n",
       "1                                               GNKP                     \n",
       "2                                  Sudha kuradikeri                      \n",
       "3                                               GNKP                     \n",
       "4                                               GNKP                     \n",
       "\n",
       "   Your age  ... What did you do? Write as if you are writing to a friend.  \\\n",
       "0      27.0  ...                                                NaN          \n",
       "1      27.0  ...                                                NaN          \n",
       "2      13.0  ...                                                NaN          \n",
       "3      15.0  ...                                                NaN          \n",
       "4      30.0  ...                                                NaN          \n",
       "\n",
       "   Success Story Category  \\\n",
       "0                     NaN   \n",
       "1                     NaN   \n",
       "2                     NaN   \n",
       "3                     NaN   \n",
       "4                     NaN   \n",
       "\n",
       "  Did you engage with a Govt Authority for this success story?  \\\n",
       "0                                                NaN             \n",
       "1                                                NaN             \n",
       "2                                                NaN             \n",
       "3                                                NaN             \n",
       "4                                                NaN             \n",
       "\n",
       "  Describe action taken What is the impact of this action?  \\\n",
       "0                   NaN                                NaN   \n",
       "1                   NaN                                NaN   \n",
       "2                   NaN                                NaN   \n",
       "3                   NaN                                NaN   \n",
       "4                   NaN                                NaN   \n",
       "\n",
       "  Did you facilitate a session for Solve Ninjas/volunteers?  \\\n",
       "0                                                NaN          \n",
       "1                                                NaN          \n",
       "2                                                NaN          \n",
       "3                                                NaN          \n",
       "4                                                NaN          \n",
       "\n",
       "  Was the session held online or offline?  \\\n",
       "0                                     NaN   \n",
       "1                                     NaN   \n",
       "2                                     NaN   \n",
       "3                                     NaN   \n",
       "4                                     NaN   \n",
       "\n",
       "   How many people attended the session? (In digits)  \\\n",
       "0                                                NaN   \n",
       "1                                                NaN   \n",
       "2                                                NaN   \n",
       "3                                                NaN   \n",
       "4                                                NaN   \n",
       "\n",
       "  Which program/chapter was the event conducted for?  \\\n",
       "0                                                NaN   \n",
       "1                                                NaN   \n",
       "2                                                NaN   \n",
       "3                                                NaN   \n",
       "4                                                NaN   \n",
       "\n",
       "                Email address  \n",
       "0   subhanimn@reapbenefit.org  \n",
       "1   subhanimn@reapbenefit.org  \n",
       "2   veereshkaradi67@gmail.com  \n",
       "3  msbanavannavar13@gmail.com  \n",
       "4   naganagoudap123@gmail.com  \n",
       "\n",
       "[5 rows x 36 columns]"
      ]
     },
     "execution_count": 51,
     "metadata": {},
     "output_type": "execute_result"
    }
   ],
   "source": [
    "df.head()"
   ]
  },
  {
   "cell_type": "code",
   "execution_count": 4,
   "id": "b73feda9",
   "metadata": {},
   "outputs": [
    {
     "name": "stdout",
     "output_type": "stream",
     "text": [
      "<class 'pandas.core.frame.DataFrame'>\n",
      "RangeIndex: 6982 entries, 0 to 6981\n",
      "Data columns (total 36 columns):\n",
      " #   Column                                                                                            Non-Null Count  Dtype  \n",
      "---  ------                                                                                            --------------  -----  \n",
      " 0   Timestamp                                                                                         5427 non-null   object \n",
      " 1   Name                                                                                              6982 non-null   object \n",
      " 2   Phone Number                                                                                      5427 non-null   float64\n",
      " 3   Location                                                                                          4433 non-null   object \n",
      " 4   Please select the program you are a part of                                                       5427 non-null   object \n",
      " 5   Name of the school                                                                                2669 non-null   object \n",
      " 6   Grade                                                                                             2669 non-null   float64\n",
      " 7   Section                                                                                           1852 non-null   object \n",
      " 8   Name of the school/college/chapter you are currently associated with                              2717 non-null   object \n",
      " 9   Your age                                                                                          1764 non-null   float64\n",
      " 10  Upload Photo/Video                                                                                5427 non-null   object \n",
      " 11  Date of action taken                                                                              3332 non-null   float64\n",
      " 12  Type of Action                                                                                    6982 non-null   object \n",
      " 13  Describe how you reported the problem: What did you do? Write as if you are writing to a friend.  328 non-null    object \n",
      " 14  Any Government / Local authority engaged while reporting the issue?                               328 non-null    object \n",
      " 15  Current issue status                                                                              326 non-null    object \n",
      " 16  Did you follow up on the issue?                                                                   248 non-null    object \n",
      " 17  How many times did you follow up on the reported issue?                                           145 non-null    float64\n",
      " 18  Describe the Campaign: What did you do? Write as if you are writing to a friend.                  298 non-null    object \n",
      " 19  Campaign Category                                                                                 289 non-null    object \n",
      " 20  How many people joined the campaign?                                                              247 non-null    float64\n",
      " 21  Any govt body/local authority engaged during the Campaign?                                        144 non-null    object \n",
      " 22  Describe the Solution: What did you do? Write as if you are writing to a friend.                  902 non-null    object \n",
      " 23  Solutions Category                                                                                839 non-null    object \n",
      " 24  Solution Type                                                                                     902 non-null    object \n",
      " 25  Did you collect feedback on the Solution implemented?                                             889 non-null    object \n",
      " 26  What did you do? Write as if you are writing to a friend.                                         2884 non-null   object \n",
      " 27  Success Story Category                                                                            3878 non-null   object \n",
      " 28  Did you engage with a Govt Authority for this success story?                                      2884 non-null   object \n",
      " 29  Describe action taken                                                                             3878 non-null   object \n",
      " 30  What is the impact of this action?                                                                2884 non-null   float64\n",
      " 31  Did you facilitate a session for Solve Ninjas/volunteers?                                         9 non-null      object \n",
      " 32  Was the session held online or offline?                                                           9 non-null      object \n",
      " 33  How many people attended the session? (In digits)                                                 8 non-null      float64\n",
      " 34  Which program/chapter was the event conducted for?                                                9 non-null      object \n",
      " 35  Email address                                                                                     4418 non-null   object \n",
      "dtypes: float64(8), object(28)\n",
      "memory usage: 1.9+ MB\n"
     ]
    }
   ],
   "source": [
    "df.info()"
   ]
  },
  {
   "cell_type": "code",
   "execution_count": 6,
   "id": "a281ed97",
   "metadata": {},
   "outputs": [
    {
     "data": {
      "text/plain": [
       "(6982, 36)"
      ]
     },
     "execution_count": 6,
     "metadata": {},
     "output_type": "execute_result"
    }
   ],
   "source": [
    "df.shape"
   ]
  },
  {
   "cell_type": "code",
   "execution_count": 7,
   "id": "613b8ec0",
   "metadata": {},
   "outputs": [
    {
     "data": {
      "text/html": [
       "<div>\n",
       "<style scoped>\n",
       "    .dataframe tbody tr th:only-of-type {\n",
       "        vertical-align: middle;\n",
       "    }\n",
       "\n",
       "    .dataframe tbody tr th {\n",
       "        vertical-align: top;\n",
       "    }\n",
       "\n",
       "    .dataframe thead th {\n",
       "        text-align: right;\n",
       "    }\n",
       "</style>\n",
       "<table border=\"1\" class=\"dataframe\">\n",
       "  <thead>\n",
       "    <tr style=\"text-align: right;\">\n",
       "      <th></th>\n",
       "      <th>Phone Number</th>\n",
       "      <th>Grade</th>\n",
       "      <th>Your age</th>\n",
       "      <th>Date of action taken</th>\n",
       "      <th>How many times did you follow up on the reported issue?</th>\n",
       "      <th>How many people joined the campaign?</th>\n",
       "      <th>What is the impact of this action?</th>\n",
       "      <th>How many people attended the session? (In digits)</th>\n",
       "    </tr>\n",
       "  </thead>\n",
       "  <tbody>\n",
       "    <tr>\n",
       "      <th>count</th>\n",
       "      <td>5.427000e+03</td>\n",
       "      <td>2669.000000</td>\n",
       "      <td>1764.000000</td>\n",
       "      <td>3332.000000</td>\n",
       "      <td>145.000000</td>\n",
       "      <td>247.000000</td>\n",
       "      <td>2884.000000</td>\n",
       "      <td>8.000000</td>\n",
       "    </tr>\n",
       "    <tr>\n",
       "      <th>mean</th>\n",
       "      <td>1.731003e+11</td>\n",
       "      <td>7.910453</td>\n",
       "      <td>14.658730</td>\n",
       "      <td>44525.658163</td>\n",
       "      <td>2.572414</td>\n",
       "      <td>116.862348</td>\n",
       "      <td>8712.238558</td>\n",
       "      <td>28.000000</td>\n",
       "    </tr>\n",
       "    <tr>\n",
       "      <th>std</th>\n",
       "      <td>3.536597e+11</td>\n",
       "      <td>1.736330</td>\n",
       "      <td>2.933229</td>\n",
       "      <td>87.999952</td>\n",
       "      <td>1.147127</td>\n",
       "      <td>159.910790</td>\n",
       "      <td>34101.346583</td>\n",
       "      <td>17.598701</td>\n",
       "    </tr>\n",
       "    <tr>\n",
       "      <th>min</th>\n",
       "      <td>0.000000e+00</td>\n",
       "      <td>4.000000</td>\n",
       "      <td>10.000000</td>\n",
       "      <td>40841.000000</td>\n",
       "      <td>1.000000</td>\n",
       "      <td>0.000000</td>\n",
       "      <td>0.000000</td>\n",
       "      <td>3.000000</td>\n",
       "    </tr>\n",
       "    <tr>\n",
       "      <th>25%</th>\n",
       "      <td>1.234568e+09</td>\n",
       "      <td>7.000000</td>\n",
       "      <td>13.000000</td>\n",
       "      <td>44477.000000</td>\n",
       "      <td>2.000000</td>\n",
       "      <td>10.000000</td>\n",
       "      <td>1.000000</td>\n",
       "      <td>9.000000</td>\n",
       "    </tr>\n",
       "    <tr>\n",
       "      <th>50%</th>\n",
       "      <td>8.041171e+09</td>\n",
       "      <td>8.000000</td>\n",
       "      <td>14.000000</td>\n",
       "      <td>44531.000000</td>\n",
       "      <td>2.000000</td>\n",
       "      <td>24.000000</td>\n",
       "      <td>5.000000</td>\n",
       "      <td>39.000000</td>\n",
       "    </tr>\n",
       "    <tr>\n",
       "      <th>75%</th>\n",
       "      <td>9.633978e+09</td>\n",
       "      <td>9.000000</td>\n",
       "      <td>15.000000</td>\n",
       "      <td>44574.000000</td>\n",
       "      <td>4.000000</td>\n",
       "      <td>369.000000</td>\n",
       "      <td>80.000000</td>\n",
       "      <td>40.000000</td>\n",
       "    </tr>\n",
       "    <tr>\n",
       "      <th>max</th>\n",
       "      <td>9.199999e+11</td>\n",
       "      <td>12.000000</td>\n",
       "      <td>42.000000</td>\n",
       "      <td>44868.000000</td>\n",
       "      <td>4.000000</td>\n",
       "      <td>369.000000</td>\n",
       "      <td>219000.000000</td>\n",
       "      <td>45.000000</td>\n",
       "    </tr>\n",
       "  </tbody>\n",
       "</table>\n",
       "</div>"
      ],
      "text/plain": [
       "       Phone Number        Grade     Your age  Date of action taken  \\\n",
       "count  5.427000e+03  2669.000000  1764.000000           3332.000000   \n",
       "mean   1.731003e+11     7.910453    14.658730          44525.658163   \n",
       "std    3.536597e+11     1.736330     2.933229             87.999952   \n",
       "min    0.000000e+00     4.000000    10.000000          40841.000000   \n",
       "25%    1.234568e+09     7.000000    13.000000          44477.000000   \n",
       "50%    8.041171e+09     8.000000    14.000000          44531.000000   \n",
       "75%    9.633978e+09     9.000000    15.000000          44574.000000   \n",
       "max    9.199999e+11    12.000000    42.000000          44868.000000   \n",
       "\n",
       "       How many times did you follow up on the reported issue?  \\\n",
       "count                                         145.000000         \n",
       "mean                                            2.572414         \n",
       "std                                             1.147127         \n",
       "min                                             1.000000         \n",
       "25%                                             2.000000         \n",
       "50%                                             2.000000         \n",
       "75%                                             4.000000         \n",
       "max                                             4.000000         \n",
       "\n",
       "       How many people joined the campaign?  \\\n",
       "count                            247.000000   \n",
       "mean                             116.862348   \n",
       "std                              159.910790   \n",
       "min                                0.000000   \n",
       "25%                               10.000000   \n",
       "50%                               24.000000   \n",
       "75%                              369.000000   \n",
       "max                              369.000000   \n",
       "\n",
       "       What is the impact of this action?  \\\n",
       "count                         2884.000000   \n",
       "mean                          8712.238558   \n",
       "std                          34101.346583   \n",
       "min                              0.000000   \n",
       "25%                              1.000000   \n",
       "50%                              5.000000   \n",
       "75%                             80.000000   \n",
       "max                         219000.000000   \n",
       "\n",
       "       How many people attended the session? (In digits)  \n",
       "count                                           8.000000  \n",
       "mean                                           28.000000  \n",
       "std                                            17.598701  \n",
       "min                                             3.000000  \n",
       "25%                                             9.000000  \n",
       "50%                                            39.000000  \n",
       "75%                                            40.000000  \n",
       "max                                            45.000000  "
      ]
     },
     "execution_count": 7,
     "metadata": {},
     "output_type": "execute_result"
    }
   ],
   "source": [
    "df.describe() #Analyzing statistical data in one go"
   ]
  },
  {
   "cell_type": "markdown",
   "id": "d65f9e41",
   "metadata": {},
   "source": [
    "This is the statistical data: "
   ]
  },
  {
   "cell_type": "markdown",
   "id": "0c6b12bc",
   "metadata": {},
   "source": [
    "average age = 14, max and min age = 42 & 10 resp"
   ]
  },
  {
   "cell_type": "markdown",
   "id": "aa4b6db0",
   "metadata": {},
   "source": [
    "On an average, 2 times a user followed up when an issue was left unsolved, and max is 4 times."
   ]
  },
  {
   "cell_type": "markdown",
   "id": "236ea6d7",
   "metadata": {},
   "source": [
    "On an average, 116 people joined the campaign"
   ]
  },
  {
   "cell_type": "code",
   "execution_count": 7,
   "id": "86b15b16",
   "metadata": {},
   "outputs": [
    {
     "data": {
      "text/plain": [
       "Timestamp                                                                                           1555\n",
       "Name                                                                                                   0\n",
       "Phone Number                                                                                        1555\n",
       "Location                                                                                            2549\n",
       "Please select the program you are a part of                                                         1555\n",
       "Name of the school                                                                                  4313\n",
       "Grade                                                                                               4313\n",
       "Section                                                                                             5130\n",
       "Name of the school/college/chapter you are currently associated with                                4265\n",
       "Your age                                                                                            5218\n",
       "Upload Photo/Video                                                                                  1555\n",
       "Date of action taken                                                                                3650\n",
       "Type of Action                                                                                         0\n",
       "Describe how you reported the problem: What did you do? Write as if you are writing to a friend.    6654\n",
       "Any Government / Local authority engaged while reporting the issue?                                 6654\n",
       "Current issue status                                                                                6656\n",
       "Did you follow up on the issue?                                                                     6734\n",
       "How many times did you follow up on the reported issue?                                             6837\n",
       "Describe the Campaign: What did you do? Write as if you are writing to a friend.                    6684\n",
       "Campaign Category                                                                                   6693\n",
       "How many people joined the campaign?                                                                6735\n",
       "Any govt body/local authority engaged during the Campaign?                                          6838\n",
       "Describe the Solution: What did you do? Write as if you are writing to a friend.                    6080\n",
       "Solutions Category                                                                                  6143\n",
       "Solution Type                                                                                       6080\n",
       "Did you collect feedback on the Solution implemented?                                               6093\n",
       "What did you do? Write as if you are writing to a friend.                                           4098\n",
       "Success Story Category                                                                              3104\n",
       "Did you engage with a Govt Authority for this success story?                                        4098\n",
       "Describe action taken                                                                               3104\n",
       "What is the impact of this action?                                                                  4098\n",
       "Did you facilitate a session for Solve Ninjas/volunteers?                                           6973\n",
       "Was the session held online or offline?                                                             6973\n",
       "How many people attended the session? (In digits)                                                   6974\n",
       "Which program/chapter was the event conducted for?                                                  6973\n",
       "Email address                                                                                       2564\n",
       "dtype: int64"
      ]
     },
     "execution_count": 7,
     "metadata": {},
     "output_type": "execute_result"
    }
   ],
   "source": [
    "df.isnull().sum()   # Calculating total null values"
   ]
  },
  {
   "cell_type": "code",
   "execution_count": 8,
   "id": "97f03762",
   "metadata": {},
   "outputs": [
    {
     "data": {
      "text/plain": [
       "Others         2370\n",
       "Chennai        1760\n",
       "Bangalore       216\n",
       "Nelamangala      87\n",
       "Name: Location, dtype: int64"
      ]
     },
     "execution_count": 8,
     "metadata": {},
     "output_type": "execute_result"
    }
   ],
   "source": [
    "df['Location'].value_counts()  # The location of people who took the survey"
   ]
  },
  {
   "cell_type": "code",
   "execution_count": 98,
   "id": "323e66ad",
   "metadata": {},
   "outputs": [
    {
     "data": {
      "image/png": "[encoded data removed]",
      "text/plain": [
       "<Figure size 432x288 with 1 Axes>"
      ]
     },
     "metadata": {},
     "output_type": "display_data"
    }
   ],
   "source": [
    "area_type = [2370,1760,216,87]\n",
    "labelz = ['Others', 'Chennai', 'Bangalore', 'Nelamangala']\n",
    "plt.pie(area_type)\n",
    "plt.title('Location')\n",
    "plt.legend(labelz, bbox_to_anchor=(0.85,1.025), loc=\"upper left\")\n",
    "plt.show()"
   ]
  },
  {
   "cell_type": "code",
   "execution_count": 99,
   "id": "b48d5b11",
   "metadata": {},
   "outputs": [
    {
     "data": {
      "text/plain": [
       "Bootcamp and Bootcamp Express     2669\n",
       "Grama Ninjas, Karnataka           1669\n",
       "play 4 good                        994\n",
       "Solve Ninja Chapter                 84\n",
       "Solve Ninja Community                7\n",
       "Solve Ninja Summer Program           3\n",
       "Solve Ninja Leadership Program       1\n",
       "Name: Please select the program you are a part of, dtype: int64"
      ]
     },
     "execution_count": 99,
     "metadata": {},
     "output_type": "execute_result"
    }
   ],
   "source": [
    "df['Please select the program you are a part of'].value_counts()     # Porgram types "
   ]
  },
  {
   "cell_type": "code",
   "execution_count": 11,
   "id": "ce528c2b",
   "metadata": {},
   "outputs": [
    {
     "data": {
      "text/plain": [
       "5427"
      ]
     },
     "execution_count": 11,
     "metadata": {},
     "output_type": "execute_result"
    }
   ],
   "source": [
    "df['Please select the program you are a part of'].value_counts().sum()"
   ]
  },
  {
   "cell_type": "code",
   "execution_count": 21,
   "id": "436d9552",
   "metadata": {},
   "outputs": [
    {
     "data": {
      "text/plain": [
       "Chettinad Harishree Vidyalayam, Chennai           1128\n",
       "Chettinad Vidya Mandir, Karur                      584\n",
       "DKS & SSVM HLC                                     115\n",
       "Bharath National Public School                     101\n",
       "TVS Academy                                         91\n",
       "DAV Girls Mogappair                                 51\n",
       "Kickoff Solutions                                   47\n",
       "DAV Boys Mogappair                                  47\n",
       "Delhi Public School Bangalore North                 46\n",
       "Sarvodaya HLC                                       39\n",
       "Klorofeel School                                    37\n",
       "Chettinad Vidya Mandir, Coimbatore                  36\n",
       "DAV Girls Gopalpuram                                30\n",
       "GSSS, THALI, RAJASTHAN                              28\n",
       "Deccan International School                         26\n",
       "DAV Boys Gopalpuram                                 24\n",
       "Malnad HLC                                          23\n",
       "Sonwalkar HLC                                       21\n",
       "DAV Boys Senior Secondary School , Gopalapuram      19\n",
       "GSSS Kharkhara Devran                               17\n",
       "DAV Girls Gopalapuram                               13\n",
       "Purna Chaitanya Public School                       13\n",
       "Open house                                          13\n",
       "GSSS Bibasar, Jhunjhunu                             13\n",
       "DAV Matric Mogappair                                12\n",
       "GSSS THALI, RAJASTHAN                               10\n",
       "Oxford English School HLC                            9\n",
       "CMS - Madumanagar                                    8\n",
       "DBD HLC                                              8\n",
       "Kickoff solutions                                    6\n",
       "DAV Matric Gillnagar                                 6\n",
       "CVM karur                                            5\n",
       "GSSS Patusari                                        5\n",
       "GSSS Khajpur Naya                                    5\n",
       "Happy English School                                 4\n",
       "DAV Gillnagar matriculation                          4\n",
       "DAV Girls Mogappair                                  4\n",
       "GSSS MANDASI                                         3\n",
       "GSSS Patusari, Jhunjhunu                             3\n",
       "GSSS Bibasar Jhunjhunu                               2\n",
       "MANDASI                                              2\n",
       "DAV matric Mogappair                                 2\n",
       "GSSS Patusari                                        1\n",
       "Kickoff Soluutions                                   1\n",
       "DAV matric Mogappair                                 1\n",
       "DAV boys Mogappair                                   1\n",
       "DAV Boys Mogappair                                   1\n",
       "GSSS Dorasar                                         1\n",
       "Kick off Solutions                                   1\n",
       "KickOff Solutions                                    1\n",
       "Gsss mandri                                          1\n",
       "Name: Name of the school, dtype: int64"
      ]
     },
     "execution_count": 21,
     "metadata": {},
     "output_type": "execute_result"
    }
   ],
   "source": [
    "df['Name of the school'].value_counts()            # top 3 schools"
   ]
  },
  {
   "cell_type": "code",
   "execution_count": 19,
   "id": "d04cb626",
   "metadata": {},
   "outputs": [
    {
     "data": {
      "text/plain": [
       "51"
      ]
     },
     "execution_count": 19,
     "metadata": {},
     "output_type": "execute_result"
    }
   ],
   "source": [
    "df['Name of the school'].value_counts().count()    # Data of 51 schools"
   ]
  },
  {
   "cell_type": "code",
   "execution_count": 20,
   "id": "256b2aa1",
   "metadata": {},
   "outputs": [
    {
     "data": {
      "text/plain": [
       "2669"
      ]
     },
     "execution_count": 20,
     "metadata": {},
     "output_type": "execute_result"
    }
   ],
   "source": [
    "df['Name of the school'].value_counts().sum()      # Total number of school student "
   ]
  },
  {
   "cell_type": "code",
   "execution_count": 13,
   "id": "774f390f",
   "metadata": {},
   "outputs": [
    {
     "data": {
      "text/plain": [
       "Navkis Educational Centre             167\n",
       "Basamma                               150\n",
       "BNPS10C                               118\n",
       "Faridabanu                            100\n",
       "BNPS10B                                97\n",
       "                                     ... \n",
       "palabhavi                               1\n",
       "Kumar A                                 1\n",
       "Rangaswami                              1\n",
       "Jss pre University college Hubbli       1\n",
       "Kumar D                                 1\n",
       "Name: Name of the school/college/chapter you are currently associated with, Length: 167, dtype: int64"
      ]
     },
     "execution_count": 13,
     "metadata": {},
     "output_type": "execute_result"
    }
   ],
   "source": [
    "df['Name of the school/college/chapter you are currently associated with'].value_counts()  #another column for school"
   ]
  },
  {
   "cell_type": "code",
   "execution_count": 12,
   "id": "27d7c20d",
   "metadata": {},
   "outputs": [
    {
     "data": {
      "text/plain": [
       "SS - Success Story                                   3882\n",
       "Act_of_Solve                                         1044\n",
       "HH - Build/Implemented a Solution                     909\n",
       "RR - Reported an issue to an adult/local govt/RWA     328\n",
       "CC - Created/Participated in a campaign               299\n",
       "Report                                                263\n",
       "Product                                               175\n",
       "Campaign                                               73\n",
       "ST - Session taken for other Solve Ninjas               9\n",
       "Name: Type of Action, dtype: int64"
      ]
     },
     "execution_count": 12,
     "metadata": {},
     "output_type": "execute_result"
    }
   ],
   "source": [
    "df['Type of Action'].value_counts()     #Types of action taken"
   ]
  },
  {
   "cell_type": "code",
   "execution_count": 16,
   "id": "99e1ff54",
   "metadata": {},
   "outputs": [
    {
     "data": {
      "text/plain": [
       "9"
      ]
     },
     "execution_count": 16,
     "metadata": {},
     "output_type": "execute_result"
    }
   ],
   "source": [
    "df['Type of Action'].value_counts().count()"
   ]
  },
  {
   "cell_type": "code",
   "execution_count": 17,
   "id": "328fba5e",
   "metadata": {},
   "outputs": [
    {
     "data": {
      "text/plain": [
       "6982"
      ]
     },
     "execution_count": 17,
     "metadata": {},
     "output_type": "execute_result"
    }
   ],
   "source": [
    "df['Type of Action'].value_counts().sum()   # 9 type of actions took place accross 7k entries "
   ]
  },
  {
   "cell_type": "code",
   "execution_count": 19,
   "id": "dc347f0f",
   "metadata": {},
   "outputs": [
    {
     "data": {
      "text/plain": [
       "School Authority / principal / teacher                  121\n",
       "Government Agency / Local Body                           80\n",
       "No                                                       51\n",
       "Corporator                                               40\n",
       "Housing authority (Apartment heads / administration)     13\n",
       "MLA                                                       7\n",
       "Street officials                                          5\n",
       "Nodal Officer                                             5\n",
       "Gram Panchayat President                                  1\n",
       "ಊರಿನ ಹಿರಿಯರು                                              1\n",
       "Area councillor                                           1\n",
       "Local Guard                                               1\n",
       "Maguvin mane                                              1\n",
       "Gram Panchayat member                                     1\n",
       "Name: Any Government / Local authority engaged while reporting the issue?, dtype: int64"
      ]
     },
     "execution_count": 19,
     "metadata": {},
     "output_type": "execute_result"
    }
   ],
   "source": [
    "df['Any Government / Local authority engaged while reporting the issue?'].value_counts() "
   ]
  },
  {
   "cell_type": "code",
   "execution_count": 20,
   "id": "c36076c2",
   "metadata": {},
   "outputs": [
    {
     "data": {
      "text/plain": [
       "328"
      ]
     },
     "execution_count": 20,
     "metadata": {},
     "output_type": "execute_result"
    }
   ],
   "source": [
    "df['Any Government / Local authority engaged while reporting the issue?'].value_counts().sum() # 328 - 51"
   ]
  },
  {
   "cell_type": "code",
   "execution_count": 100,
   "id": "d3028a32",
   "metadata": {},
   "outputs": [
    {
     "data": {
      "image/png": "[encoded data removed]",
      "text/plain": [
       "<Figure size 432x288 with 1 Axes>"
      ]
     },
     "metadata": {},
     "output_type": "display_data"
    }
   ],
   "source": [
    "area_type = [277,51]\n",
    "labelz = ['Yes', 'No']\n",
    "plt.pie(area_type)\n",
    "plt.title('Did local authority engaged while reporting the issue')\n",
    "plt.legend(labelz, bbox_to_anchor=(0.85,1.025), loc=\"upper left\")\n",
    "plt.show()"
   ]
  },
  {
   "cell_type": "code",
   "execution_count": 21,
   "id": "9554cefa",
   "metadata": {},
   "outputs": [
    {
     "data": {
      "text/plain": [
       "277"
      ]
     },
     "execution_count": 21,
     "metadata": {},
     "output_type": "execute_result"
    }
   ],
   "source": [
    "328-51   # 277/6982 people's gov/local authority engaged while reporting the issue"
   ]
  },
  {
   "cell_type": "code",
   "execution_count": 22,
   "id": "24f7bad3",
   "metadata": {},
   "outputs": [
    {
     "data": {
      "text/plain": [
       "Authority is yet to work on it          124\n",
       "Don't know                               85\n",
       "Issue resolved                           82\n",
       "Authority is currently working on it     35\n",
       "Name: Current issue status, dtype: int64"
      ]
     },
     "execution_count": 22,
     "metadata": {},
     "output_type": "execute_result"
    }
   ],
   "source": [
    "df['Current issue status'].value_counts() # Will make a graph on it"
   ]
  },
  {
   "cell_type": "code",
   "execution_count": 101,
   "id": "e255e63c",
   "metadata": {},
   "outputs": [
    {
     "data": {
      "image/png": "[encoded data removed]",
      "text/plain": [
       "<Figure size 720x360 with 1 Axes>"
      ]
     },
     "metadata": {
      "needs_background": "light"
     },
     "output_type": "display_data"
    }
   ],
   "source": [
    "type_of_action = [124,85,82,35]\n",
    "plt.figure(figsize = (10,5))\n",
    "labelz = ['Yet to work', 'Dont know', 'Issue resolved', 'Working on it']\n",
    "plt.bar(labelz, type_of_action)\n",
    "plt.title('The current issue status')\n",
    "#plt.legend(labelz, bbox_to_anchor=(0.85,1.025), loc=\"upper left\")\n",
    "plt.show()"
   ]
  },
  {
   "cell_type": "code",
   "execution_count": 23,
   "id": "43e5b093",
   "metadata": {},
   "outputs": [
    {
     "data": {
      "text/plain": [
       "326"
      ]
     },
     "execution_count": 23,
     "metadata": {},
     "output_type": "execute_result"
    }
   ],
   "source": [
    "df['Current issue status'].value_counts().sum()  # 82/326 people's issue was resolved"
   ]
  },
  {
   "cell_type": "code",
   "execution_count": 24,
   "id": "bfd5edea",
   "metadata": {},
   "outputs": [
    {
     "data": {
      "text/plain": [
       "Yes    145\n",
       "No     103\n",
       "Name: Did you follow up on the issue?, dtype: int64"
      ]
     },
     "execution_count": 24,
     "metadata": {},
     "output_type": "execute_result"
    }
   ],
   "source": [
    "df['Did you follow up on the issue?'].value_counts()  #If the issue wasnt solved 60% ppl followed up"
   ]
  },
  {
   "cell_type": "code",
   "execution_count": 25,
   "id": "57f31d30",
   "metadata": {},
   "outputs": [
    {
     "data": {
      "text/plain": [
       "Water                               109\n",
       "All Categories                       70\n",
       "COVID                                34\n",
       "Covid                                15\n",
       "Waste                                13\n",
       "Covid19                              12\n",
       "Covid                                 9\n",
       "covid19                               5\n",
       "covid                                 4\n",
       "Education                             4\n",
       "Civic                                 4\n",
       "Domestic Violence                     2\n",
       "Covide                                1\n",
       "Nature                                1\n",
       "Arrack                                1\n",
       "Environment                           1\n",
       "Support specially abled children      1\n",
       "Education                             1\n",
       "Air                                   1\n",
       "Sanitation                            1\n",
       "Name: Campaign Category, dtype: int64"
      ]
     },
     "execution_count": 25,
     "metadata": {},
     "output_type": "execute_result"
    }
   ],
   "source": [
    "df['Campaign Category'].value_counts()  # top 5 campaign categories"
   ]
  },
  {
   "cell_type": "code",
   "execution_count": 26,
   "id": "fa56a280",
   "metadata": {},
   "outputs": [
    {
     "data": {
      "text/plain": [
       "School Authority (Principal/Teacher)    142\n",
       "Corporator                                1\n",
       "Government Agency                         1\n",
       "Name: Any govt body/local authority engaged during the Campaign?, dtype: int64"
      ]
     },
     "execution_count": 26,
     "metadata": {},
     "output_type": "execute_result"
    }
   ],
   "source": [
    "df['Any govt body/local authority engaged during the Campaign?'].value_counts() #Mention in presentation"
   ]
  },
  {
   "cell_type": "code",
   "execution_count": 29,
   "id": "f943b2fa",
   "metadata": {},
   "outputs": [
    {
     "data": {
      "text/plain": [
       "Water                            1947\n",
       "Waste                             680\n",
       "COVID                             592\n",
       "Covid                             219\n",
       "covid                             117\n",
       "                                 ... \n",
       "Empathy Map                         1\n",
       "Govt policy Youth Involvement       1\n",
       "ಸಾಮಾಜಿಕ ಅರಿವು                       1\n",
       "Empowering Girls                    1\n",
       "General problems                    1\n",
       "Name: Success Story Category, Length: 69, dtype: int64"
      ]
     },
     "execution_count": 29,
     "metadata": {},
     "output_type": "execute_result"
    }
   ],
   "source": [
    "df['Success Story Category'].value_counts()    "
   ]
  },
  {
   "cell_type": "code",
   "execution_count": 31,
   "id": "2388fc81",
   "metadata": {},
   "outputs": [
    {
     "data": {
      "text/plain": [
       "Prototype        462\n",
       "Idea             226\n",
       "Final product    214\n",
       "Name: Solution Type, dtype: int64"
      ]
     },
     "execution_count": 31,
     "metadata": {},
     "output_type": "execute_result"
    }
   ],
   "source": [
    "df['Solution Type'].value_counts()  # Type of solution"
   ]
  },
  {
   "cell_type": "code",
   "execution_count": 30,
   "id": "549d5213",
   "metadata": {},
   "outputs": [
    {
     "data": {
      "text/plain": [
       "No     2677\n",
       "Yes     207\n",
       "Name: Did you engage with a Govt Authority for this success story?, dtype: int64"
      ]
     },
     "execution_count": 30,
     "metadata": {},
     "output_type": "execute_result"
    }
   ],
   "source": [
    "df['Did you engage with a Govt Authority for this success story?'].value_counts()"
   ]
  },
  {
   "cell_type": "code",
   "execution_count": 32,
   "id": "eb542711",
   "metadata": {},
   "outputs": [
    {
     "data": {
      "text/plain": [
       "Did Waste/Water/Electricity Audit                        1498\n",
       "Implemented a Product/Service to Solve a Problem          790\n",
       "Did Waste/ Water/ Electricuty Audit                       554\n",
       "Created a Campaign and solved the Issue                   446\n",
       "Implemented a Product/Srvice to Solve a Problem           273\n",
       "Suggested a product to solve a Problem                    207\n",
       "Reported an Issue and then Followed up multiple times     110\n",
       "Name: Describe action taken, dtype: int64"
      ]
     },
     "execution_count": 32,
     "metadata": {},
     "output_type": "execute_result"
    }
   ],
   "source": [
    "df['Describe action taken'].value_counts()"
   ]
  },
  {
   "cell_type": "code",
   "execution_count": 36,
   "id": "33da34f4",
   "metadata": {},
   "outputs": [
    {
     "data": {
      "text/plain": [
       "Yes    8\n",
       "No     1\n",
       "Name: Did you facilitate a session for Solve Ninjas/volunteers?, dtype: int64"
      ]
     },
     "execution_count": 36,
     "metadata": {},
     "output_type": "execute_result"
    }
   ],
   "source": [
    "df['Did you facilitate a session for Solve Ninjas/volunteers?'].value_counts() #out of 7k only 9 filled this"
   ]
  },
  {
   "cell_type": "code",
   "execution_count": 37,
   "id": "14125562",
   "metadata": {},
   "outputs": [
    {
     "data": {
      "text/plain": [
       "Offline    8\n",
       "Online     1\n",
       "Name: Was the session held online or offline?, dtype: int64"
      ]
     },
     "execution_count": 37,
     "metadata": {},
     "output_type": "execute_result"
    }
   ],
   "source": [
    "df['Was the session held online or offline?'].value_counts()"
   ]
  },
  {
   "cell_type": "code",
   "execution_count": 8,
   "id": "d27a726e",
   "metadata": {},
   "outputs": [
    {
     "data": {
      "text/plain": [
       "Reap benefit 1 to 3 chapter                   1\n",
       "Discovere                                     1\n",
       "Oscar Foundation Session for girls            1\n",
       "Solve topic                                   1\n",
       "Ninjas Solve                                  1\n",
       "Svachate nammellar hone                       1\n",
       "tell to their family about save the water.    1\n",
       "Grama ninja parikalpane introduced            1\n",
       "Oscar Foundation Session with girls           1\n",
       "Name: Which program/chapter was the event conducted for?, dtype: int64"
      ]
     },
     "execution_count": 8,
     "metadata": {},
     "output_type": "execute_result"
    }
   ],
   "source": [
    "df['Which program/chapter was the event conducted for?'].value_counts()"
   ]
  },
  {
   "cell_type": "markdown",
   "id": "ddffebfc",
   "metadata": {},
   "source": [
    "Checking duplicates now"
   ]
  },
  {
   "cell_type": "code",
   "execution_count": 31,
   "id": "67bc64c1",
   "metadata": {},
   "outputs": [
    {
     "data": {
      "text/plain": [
       "True     3829\n",
       "False    3153\n",
       "Name: counting, dtype: int64"
      ]
     },
     "execution_count": 31,
     "metadata": {},
     "output_type": "execute_result"
    }
   ],
   "source": [
    "df['counting'] = df['Name '].duplicated()\n",
    "df['counting'].value_counts()"
   ]
  },
  {
   "cell_type": "markdown",
   "id": "9199bd4a",
   "metadata": {},
   "source": [
    "### Answering questions as per the task"
   ]
  },
  {
   "cell_type": "markdown",
   "id": "eb2fefbb",
   "metadata": {},
   "source": [
    "#### How many actions are being taken?"
   ]
  },
  {
   "cell_type": "markdown",
   "id": "04651721",
   "metadata": {},
   "source": [
    "Note that we cannot diffrentiate this from school and program perspective because total programs = 5427, total school participants = 5386.  The last sheet(webapp) had no schools or programms mentioned and the rest are NaN values"
   ]
  },
  {
   "cell_type": "code",
   "execution_count": 68,
   "id": "a5199148",
   "metadata": {},
   "outputs": [
    {
     "data": {
      "text/plain": [
       "9"
      ]
     },
     "execution_count": 68,
     "metadata": {},
     "output_type": "execute_result"
    }
   ],
   "source": [
    "df['Type of Action'].value_counts().count()  # Total types of actions taken"
   ]
  },
  {
   "cell_type": "code",
   "execution_count": 67,
   "id": "cba58fdb",
   "metadata": {},
   "outputs": [
    {
     "data": {
      "text/plain": [
       "6982"
      ]
     },
     "execution_count": 67,
     "metadata": {},
     "output_type": "execute_result"
    }
   ],
   "source": [
    "df['Type of Action'].value_counts().sum()   # 9 type of actions took place accross 6982 entries "
   ]
  },
  {
   "cell_type": "code",
   "execution_count": 77,
   "id": "bba3f801",
   "metadata": {},
   "outputs": [],
   "source": [
    "df['lol'] = df['Please select the program you are a part of']  # Made a new column for syntax purpose"
   ]
  },
  {
   "cell_type": "code",
   "execution_count": 82,
   "id": "965c726b",
   "metadata": {},
   "outputs": [
    {
     "data": {
      "text/plain": [
       "2669"
      ]
     },
     "execution_count": 82,
     "metadata": {},
     "output_type": "execute_result"
    }
   ],
   "source": [
    "df.groupby('Name of the school').lol.value_counts().sum()  # total school people who were from programs"
   ]
  },
  {
   "cell_type": "code",
   "execution_count": 85,
   "id": "c3a4a272",
   "metadata": {},
   "outputs": [
    {
     "data": {
      "text/plain": [
       "5427"
      ]
     },
     "execution_count": 85,
     "metadata": {},
     "output_type": "execute_result"
    }
   ],
   "source": [
    "df['Please select the program you are a part of'].value_counts().sum()  # Total people from programs"
   ]
  },
  {
   "cell_type": "code",
   "execution_count": 89,
   "id": "9fca08a4",
   "metadata": {},
   "outputs": [
    {
     "data": {
      "text/plain": [
       "2717"
      ]
     },
     "execution_count": 89,
     "metadata": {},
     "output_type": "execute_result"
    }
   ],
   "source": [
    "df['Name of the school/college/chapter you are currently associated with'].value_counts().sum()"
   ]
  },
  {
   "cell_type": "code",
   "execution_count": 90,
   "id": "a8073821",
   "metadata": {},
   "outputs": [
    {
     "data": {
      "text/plain": [
       "5386"
      ]
     },
     "execution_count": 90,
     "metadata": {},
     "output_type": "execute_result"
    }
   ],
   "source": [
    "2717+2669  # Total school entries "
   ]
  },
  {
   "cell_type": "code",
   "execution_count": 84,
   "id": "dabb9b82",
   "metadata": {},
   "outputs": [
    {
     "data": {
      "text/plain": [
       "Name of the school                              lol                          \n",
       "Bharath National Public School                  Bootcamp and Bootcamp Express     101\n",
       "CMS - Madumanagar                               Bootcamp and Bootcamp Express       8\n",
       "CVM karur                                       Bootcamp and Bootcamp Express       5\n",
       "Chettinad Harishree Vidyalayam, Chennai         Bootcamp and Bootcamp Express    1128\n",
       "Chettinad Vidya Mandir, Coimbatore              Bootcamp and Bootcamp Express      36\n",
       "Chettinad Vidya Mandir, Karur                   Bootcamp and Bootcamp Express     584\n",
       "DAV Boys Gopalpuram                             Bootcamp and Bootcamp Express      24\n",
       "DAV Boys Mogappair                              Bootcamp and Bootcamp Express      47\n",
       "DAV Boys Mogappair                              Bootcamp and Bootcamp Express       1\n",
       "DAV Boys Senior Secondary School , Gopalapuram  Bootcamp and Bootcamp Express      19\n",
       "DAV Gillnagar matriculation                     Bootcamp and Bootcamp Express       4\n",
       "DAV Girls Gopalapuram                           Bootcamp and Bootcamp Express      13\n",
       "DAV Girls Gopalpuram                            Bootcamp and Bootcamp Express      30\n",
       "DAV Girls Mogappair                             Bootcamp and Bootcamp Express      51\n",
       "DAV Girls Mogappair                             Bootcamp and Bootcamp Express       4\n",
       "DAV Matric Gillnagar                            Bootcamp and Bootcamp Express       6\n",
       "DAV Matric Mogappair                            Bootcamp and Bootcamp Express      12\n",
       "DAV boys Mogappair                              Bootcamp and Bootcamp Express       1\n",
       "DAV matric Mogappair                            Bootcamp and Bootcamp Express       1\n",
       "DAV matric Mogappair                            Bootcamp and Bootcamp Express       2\n",
       "DBD HLC                                         Bootcamp and Bootcamp Express       8\n",
       "DKS & SSVM HLC                                  Bootcamp and Bootcamp Express     115\n",
       "Deccan International School                     Bootcamp and Bootcamp Express      26\n",
       "Delhi Public School Bangalore North             Bootcamp and Bootcamp Express      46\n",
       "GSSS Bibasar Jhunjhunu                          Bootcamp and Bootcamp Express       2\n",
       "GSSS Bibasar, Jhunjhunu                         Bootcamp and Bootcamp Express      13\n",
       "GSSS Dorasar                                    Bootcamp and Bootcamp Express       1\n",
       "GSSS Khajpur Naya                               Bootcamp and Bootcamp Express       5\n",
       "GSSS Kharkhara Devran                           Bootcamp and Bootcamp Express      17\n",
       "GSSS MANDASI                                    Bootcamp and Bootcamp Express       3\n",
       "GSSS Patusari                                   Bootcamp and Bootcamp Express       5\n",
       "GSSS Patusari                                   Bootcamp and Bootcamp Express       1\n",
       "GSSS Patusari, Jhunjhunu                        Bootcamp and Bootcamp Express       3\n",
       "GSSS THALI, RAJASTHAN                           Bootcamp and Bootcamp Express      10\n",
       "GSSS, THALI, RAJASTHAN                          Bootcamp and Bootcamp Express      28\n",
       "Gsss mandri                                     Bootcamp and Bootcamp Express       1\n",
       "Happy English School                            Bootcamp and Bootcamp Express       4\n",
       "Kick off Solutions                              Bootcamp and Bootcamp Express       1\n",
       "KickOff Solutions                               Bootcamp and Bootcamp Express       1\n",
       "Kickoff Solutions                               Bootcamp and Bootcamp Express      47\n",
       "Kickoff Soluutions                              Bootcamp and Bootcamp Express       1\n",
       "Kickoff solutions                               Bootcamp and Bootcamp Express       6\n",
       "Klorofeel School                                Bootcamp and Bootcamp Express      37\n",
       "MANDASI                                         Bootcamp and Bootcamp Express       2\n",
       "Malnad HLC                                      Bootcamp and Bootcamp Express      23\n",
       "Open house                                      Bootcamp and Bootcamp Express      13\n",
       "Oxford English School HLC                       Bootcamp and Bootcamp Express       9\n",
       "Purna Chaitanya Public School                   Bootcamp and Bootcamp Express      13\n",
       "Sarvodaya HLC                                   Bootcamp and Bootcamp Express      39\n",
       "Sonwalkar HLC                                   Bootcamp and Bootcamp Express      21\n",
       "TVS Academy                                     Bootcamp and Bootcamp Express      91\n",
       "Name: lol, dtype: int64"
      ]
     },
     "execution_count": 84,
     "metadata": {},
     "output_type": "execute_result"
    }
   ],
   "source": [
    "df.groupby('Name of the school').lol.value_counts()    # The complete info on schools who participated via programs"
   ]
  },
  {
   "cell_type": "markdown",
   "id": "f3d12f22",
   "metadata": {},
   "source": [
    "### Hence, we will be answering these questions as a whole"
   ]
  },
  {
   "cell_type": "markdown",
   "id": "97cfa3fc",
   "metadata": {},
   "source": [
    "#### How many actions took place?"
   ]
  },
  {
   "cell_type": "code",
   "execution_count": 91,
   "id": "23c07e14",
   "metadata": {},
   "outputs": [
    {
     "data": {
      "text/plain": [
       "9"
      ]
     },
     "execution_count": 91,
     "metadata": {},
     "output_type": "execute_result"
    }
   ],
   "source": [
    "df['Type of Action'].value_counts().count()  # Total types of actions taken"
   ]
  },
  {
   "cell_type": "code",
   "execution_count": 92,
   "id": "23180d98",
   "metadata": {},
   "outputs": [
    {
     "data": {
      "text/plain": [
       "6982"
      ]
     },
     "execution_count": 92,
     "metadata": {},
     "output_type": "execute_result"
    }
   ],
   "source": [
    "df['Type of Action'].value_counts().sum()   # 9 type of actions took place accross 6982 entries "
   ]
  },
  {
   "cell_type": "markdown",
   "id": "029cb48d",
   "metadata": {},
   "source": [
    "#### What type of actions took place?"
   ]
  },
  {
   "cell_type": "code",
   "execution_count": 93,
   "id": "7ba5227e",
   "metadata": {},
   "outputs": [
    {
     "data": {
      "text/plain": [
       "SS - Success Story                                   3882\n",
       "Act_of_Solve                                         1044\n",
       "HH - Build/Implemented a Solution                     909\n",
       "RR - Reported an issue to an adult/local govt/RWA     328\n",
       "CC - Created/Participated in a campaign               299\n",
       "Report                                                263\n",
       "Product                                               175\n",
       "Campaign                                               73\n",
       "ST - Session taken for other Solve Ninjas               9\n",
       "Name: Type of Action, dtype: int64"
      ]
     },
     "execution_count": 93,
     "metadata": {},
     "output_type": "execute_result"
    }
   ],
   "source": [
    "df['Type of Action'].value_counts()  "
   ]
  },
  {
   "cell_type": "code",
   "execution_count": 95,
   "id": "4072c72d",
   "metadata": {},
   "outputs": [],
   "source": [
    "from matplotlib import pyplot as plt\n",
    "import matplotlib.patches"
   ]
  },
  {
   "cell_type": "code",
   "execution_count": 96,
   "id": "0a976e5f",
   "metadata": {},
   "outputs": [
    {
     "data": {
      "image/png": "[encoded data removed]",
      "text/plain": [
       "<Figure size 720x360 with 1 Axes>"
      ]
     },
     "metadata": {
      "needs_background": "light"
     },
     "output_type": "display_data"
    }
   ],
   "source": [
    "type_of_action = [3882,1044,909,328,299,263,175,73,9]\n",
    "plt.figure(figsize = (10,5))\n",
    "labelz = ['SS', 'act of solve', 'HH', 'RR', 'CC', 'report', 'product', 'campaign', 'ST']\n",
    "plt.bar(labelz, type_of_action)\n",
    "plt.title('Types of action being taken')\n",
    "#plt.legend(labelz, bbox_to_anchor=(0.85,1.025), loc=\"upper left\")\n",
    "plt.show()"
   ]
  },
  {
   "cell_type": "markdown",
   "id": "ed65551c",
   "metadata": {},
   "source": [
    "#### Number of users who took that action\n"
   ]
  },
  {
   "cell_type": "markdown",
   "id": "4cdfa8ed",
   "metadata": {},
   "source": [
    "Answer - Same, which is "
   ]
  },
  {
   "cell_type": "code",
   "execution_count": 97,
   "id": "bfd9dd22",
   "metadata": {},
   "outputs": [
    {
     "data": {
      "text/plain": [
       "6982"
      ]
     },
     "execution_count": 97,
     "metadata": {},
     "output_type": "execute_result"
    }
   ],
   "source": [
    "df['Type of Action'].value_counts().sum()"
   ]
  },
  {
   "cell_type": "markdown",
   "id": "73a9ca0c",
   "metadata": {},
   "source": [
    "6982 users took these actions, which means everyone in our dataset took some action"
   ]
  },
  {
   "cell_type": "markdown",
   "id": "c9ea48e1",
   "metadata": {},
   "source": [
    "## `Thank you`"
   ]
  }
 ],
 "metadata": {
  "kernelspec": {
   "display_name": "Python 3",
   "language": "python",
   "name": "python3"
  },
  "language_info": {
   "codemirror_mode": {
    "name": "ipython",
    "version": 3
   },
   "file_extension": ".py",
   "mimetype": "text/x-python",
   "name": "python",
   "nbconvert_exporter": "python",
   "pygments_lexer": "ipython3",
   "version": "3.8.8"
  }
 },
 "nbformat": 4,
 "nbformat_minor": 5
}
